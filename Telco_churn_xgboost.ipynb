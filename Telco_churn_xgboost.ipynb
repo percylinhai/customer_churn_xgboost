{
  "nbformat": 4,
  "nbformat_minor": 0,
  "metadata": {
    "colab": {
      "name": "Telco_churn_xgboost.ipynb",
      "provenance": [],
      "collapsed_sections": [],
      "toc_visible": true
    },
    "kernelspec": {
      "name": "python3",
      "display_name": "Python 3"
    }
  },
  "cells": [
    {
      "cell_type": "markdown",
      "metadata": {
        "id": "O-eCpNhO2FXi"
      },
      "source": [
        "# Telco Customer Churn Modeling"
      ]
    },
    {
      "cell_type": "markdown",
      "metadata": {
        "id": "-m27gSv32mZ4"
      },
      "source": [
        "Here, we are trying to use the sample data from IBM base samples: the Telco Customer Churn data to do some machine learning model exploring. "
      ]
    },
    {
      "cell_type": "markdown",
      "metadata": {
        "id": "mVKOSbG94a34"
      },
      "source": [
        "## Import Modules"
      ]
    },
    {
      "cell_type": "code",
      "metadata": {
        "id": "taeBNUBx2V7o"
      },
      "source": [
        "import pandas as pd\n",
        "import numpy as np\n",
        "import xgboost as xgb\n",
        "from sklearn.model_selection import train_test_split, GridSearchCV\n",
        "from sklearn.metrics import balanced_accuracy_score, roc_auc_score, make_scorer, confusion_matrix, plot_confusion_matrix"
      ],
      "execution_count": 3,
      "outputs": []
    },
    {
      "cell_type": "markdown",
      "metadata": {
        "id": "hcbUugNx5KER"
      },
      "source": [
        "## Import the data file"
      ]
    },
    {
      "cell_type": "code",
      "metadata": {
        "id": "Pmm92Nv05C9m"
      },
      "source": [
        "df=pd.read_excel(\"Telco_customer_churn.xlsx\")"
      ],
      "execution_count": 4,
      "outputs": []
    },
    {
      "cell_type": "code",
      "metadata": {
        "colab": {
          "base_uri": "https://localhost:8080/",
          "height": 360
        },
        "id": "fzmRZErr5fUd",
        "outputId": "7895bb0b-3b08-4767-c5e6-c0c53cc583bf"
      },
      "source": [
        "df.head()"
      ],
      "execution_count": 5,
      "outputs": [
        {
          "output_type": "execute_result",
          "data": {
            "text/html": [
              "<div>\n",
              "<style scoped>\n",
              "    .dataframe tbody tr th:only-of-type {\n",
              "        vertical-align: middle;\n",
              "    }\n",
              "\n",
              "    .dataframe tbody tr th {\n",
              "        vertical-align: top;\n",
              "    }\n",
              "\n",
              "    .dataframe thead th {\n",
              "        text-align: right;\n",
              "    }\n",
              "</style>\n",
              "<table border=\"1\" class=\"dataframe\">\n",
              "  <thead>\n",
              "    <tr style=\"text-align: right;\">\n",
              "      <th></th>\n",
              "      <th>CustomerID</th>\n",
              "      <th>Count</th>\n",
              "      <th>Country</th>\n",
              "      <th>State</th>\n",
              "      <th>City</th>\n",
              "      <th>Zip Code</th>\n",
              "      <th>Lat Long</th>\n",
              "      <th>Latitude</th>\n",
              "      <th>Longitude</th>\n",
              "      <th>Gender</th>\n",
              "      <th>Senior Citizen</th>\n",
              "      <th>Partner</th>\n",
              "      <th>Dependents</th>\n",
              "      <th>Tenure Months</th>\n",
              "      <th>Phone Service</th>\n",
              "      <th>Multiple Lines</th>\n",
              "      <th>Internet Service</th>\n",
              "      <th>Online Security</th>\n",
              "      <th>Online Backup</th>\n",
              "      <th>Device Protection</th>\n",
              "      <th>Tech Support</th>\n",
              "      <th>Streaming TV</th>\n",
              "      <th>Streaming Movies</th>\n",
              "      <th>Contract</th>\n",
              "      <th>Paperless Billing</th>\n",
              "      <th>Payment Method</th>\n",
              "      <th>Monthly Charges</th>\n",
              "      <th>Total Charges</th>\n",
              "      <th>Churn Label</th>\n",
              "      <th>Churn Value</th>\n",
              "      <th>Churn Score</th>\n",
              "      <th>CLTV</th>\n",
              "      <th>Churn Reason</th>\n",
              "    </tr>\n",
              "  </thead>\n",
              "  <tbody>\n",
              "    <tr>\n",
              "      <th>0</th>\n",
              "      <td>3668-QPYBK</td>\n",
              "      <td>1</td>\n",
              "      <td>United States</td>\n",
              "      <td>California</td>\n",
              "      <td>Los Angeles</td>\n",
              "      <td>90003</td>\n",
              "      <td>33.964131, -118.272783</td>\n",
              "      <td>33.964131</td>\n",
              "      <td>-118.272783</td>\n",
              "      <td>Male</td>\n",
              "      <td>No</td>\n",
              "      <td>No</td>\n",
              "      <td>No</td>\n",
              "      <td>2</td>\n",
              "      <td>Yes</td>\n",
              "      <td>No</td>\n",
              "      <td>DSL</td>\n",
              "      <td>Yes</td>\n",
              "      <td>Yes</td>\n",
              "      <td>No</td>\n",
              "      <td>No</td>\n",
              "      <td>No</td>\n",
              "      <td>No</td>\n",
              "      <td>Month-to-month</td>\n",
              "      <td>Yes</td>\n",
              "      <td>Mailed check</td>\n",
              "      <td>53.85</td>\n",
              "      <td>108.15</td>\n",
              "      <td>Yes</td>\n",
              "      <td>1</td>\n",
              "      <td>86</td>\n",
              "      <td>3239</td>\n",
              "      <td>Competitor made better offer</td>\n",
              "    </tr>\n",
              "    <tr>\n",
              "      <th>1</th>\n",
              "      <td>9237-HQITU</td>\n",
              "      <td>1</td>\n",
              "      <td>United States</td>\n",
              "      <td>California</td>\n",
              "      <td>Los Angeles</td>\n",
              "      <td>90005</td>\n",
              "      <td>34.059281, -118.30742</td>\n",
              "      <td>34.059281</td>\n",
              "      <td>-118.307420</td>\n",
              "      <td>Female</td>\n",
              "      <td>No</td>\n",
              "      <td>No</td>\n",
              "      <td>Yes</td>\n",
              "      <td>2</td>\n",
              "      <td>Yes</td>\n",
              "      <td>No</td>\n",
              "      <td>Fiber optic</td>\n",
              "      <td>No</td>\n",
              "      <td>No</td>\n",
              "      <td>No</td>\n",
              "      <td>No</td>\n",
              "      <td>No</td>\n",
              "      <td>No</td>\n",
              "      <td>Month-to-month</td>\n",
              "      <td>Yes</td>\n",
              "      <td>Electronic check</td>\n",
              "      <td>70.70</td>\n",
              "      <td>151.65</td>\n",
              "      <td>Yes</td>\n",
              "      <td>1</td>\n",
              "      <td>67</td>\n",
              "      <td>2701</td>\n",
              "      <td>Moved</td>\n",
              "    </tr>\n",
              "    <tr>\n",
              "      <th>2</th>\n",
              "      <td>9305-CDSKC</td>\n",
              "      <td>1</td>\n",
              "      <td>United States</td>\n",
              "      <td>California</td>\n",
              "      <td>Los Angeles</td>\n",
              "      <td>90006</td>\n",
              "      <td>34.048013, -118.293953</td>\n",
              "      <td>34.048013</td>\n",
              "      <td>-118.293953</td>\n",
              "      <td>Female</td>\n",
              "      <td>No</td>\n",
              "      <td>No</td>\n",
              "      <td>Yes</td>\n",
              "      <td>8</td>\n",
              "      <td>Yes</td>\n",
              "      <td>Yes</td>\n",
              "      <td>Fiber optic</td>\n",
              "      <td>No</td>\n",
              "      <td>No</td>\n",
              "      <td>Yes</td>\n",
              "      <td>No</td>\n",
              "      <td>Yes</td>\n",
              "      <td>Yes</td>\n",
              "      <td>Month-to-month</td>\n",
              "      <td>Yes</td>\n",
              "      <td>Electronic check</td>\n",
              "      <td>99.65</td>\n",
              "      <td>820.5</td>\n",
              "      <td>Yes</td>\n",
              "      <td>1</td>\n",
              "      <td>86</td>\n",
              "      <td>5372</td>\n",
              "      <td>Moved</td>\n",
              "    </tr>\n",
              "    <tr>\n",
              "      <th>3</th>\n",
              "      <td>7892-POOKP</td>\n",
              "      <td>1</td>\n",
              "      <td>United States</td>\n",
              "      <td>California</td>\n",
              "      <td>Los Angeles</td>\n",
              "      <td>90010</td>\n",
              "      <td>34.062125, -118.315709</td>\n",
              "      <td>34.062125</td>\n",
              "      <td>-118.315709</td>\n",
              "      <td>Female</td>\n",
              "      <td>No</td>\n",
              "      <td>Yes</td>\n",
              "      <td>Yes</td>\n",
              "      <td>28</td>\n",
              "      <td>Yes</td>\n",
              "      <td>Yes</td>\n",
              "      <td>Fiber optic</td>\n",
              "      <td>No</td>\n",
              "      <td>No</td>\n",
              "      <td>Yes</td>\n",
              "      <td>Yes</td>\n",
              "      <td>Yes</td>\n",
              "      <td>Yes</td>\n",
              "      <td>Month-to-month</td>\n",
              "      <td>Yes</td>\n",
              "      <td>Electronic check</td>\n",
              "      <td>104.80</td>\n",
              "      <td>3046.05</td>\n",
              "      <td>Yes</td>\n",
              "      <td>1</td>\n",
              "      <td>84</td>\n",
              "      <td>5003</td>\n",
              "      <td>Moved</td>\n",
              "    </tr>\n",
              "    <tr>\n",
              "      <th>4</th>\n",
              "      <td>0280-XJGEX</td>\n",
              "      <td>1</td>\n",
              "      <td>United States</td>\n",
              "      <td>California</td>\n",
              "      <td>Los Angeles</td>\n",
              "      <td>90015</td>\n",
              "      <td>34.039224, -118.266293</td>\n",
              "      <td>34.039224</td>\n",
              "      <td>-118.266293</td>\n",
              "      <td>Male</td>\n",
              "      <td>No</td>\n",
              "      <td>No</td>\n",
              "      <td>Yes</td>\n",
              "      <td>49</td>\n",
              "      <td>Yes</td>\n",
              "      <td>Yes</td>\n",
              "      <td>Fiber optic</td>\n",
              "      <td>No</td>\n",
              "      <td>Yes</td>\n",
              "      <td>Yes</td>\n",
              "      <td>No</td>\n",
              "      <td>Yes</td>\n",
              "      <td>Yes</td>\n",
              "      <td>Month-to-month</td>\n",
              "      <td>Yes</td>\n",
              "      <td>Bank transfer (automatic)</td>\n",
              "      <td>103.70</td>\n",
              "      <td>5036.3</td>\n",
              "      <td>Yes</td>\n",
              "      <td>1</td>\n",
              "      <td>89</td>\n",
              "      <td>5340</td>\n",
              "      <td>Competitor had better devices</td>\n",
              "    </tr>\n",
              "  </tbody>\n",
              "</table>\n",
              "</div>"
            ],
            "text/plain": [
              "   CustomerID  Count  ...  CLTV                   Churn Reason\n",
              "0  3668-QPYBK      1  ...  3239   Competitor made better offer\n",
              "1  9237-HQITU      1  ...  2701                          Moved\n",
              "2  9305-CDSKC      1  ...  5372                          Moved\n",
              "3  7892-POOKP      1  ...  5003                          Moved\n",
              "4  0280-XJGEX      1  ...  5340  Competitor had better devices\n",
              "\n",
              "[5 rows x 33 columns]"
            ]
          },
          "metadata": {
            "tags": []
          },
          "execution_count": 5
        }
      ]
    },
    {
      "cell_type": "markdown",
      "metadata": {
        "id": "S1SMQxtN6Eiu"
      },
      "source": [
        "## Data Preprocessing\n",
        "\n",
        "### 1. Attributes Cleaning\n",
        "First, getting rid of redundant attributes. Note that the columns \"Churn Value\", \"Churn Score\", \"CLTV\" and \"Churn Reason\" are collected from customers who left the company service, therefore these columns should not be used for predicting churns. For example, the \"Churn Value\" is identical to \"Churn Label\"."
      ]
    },
    {
      "cell_type": "code",
      "metadata": {
        "colab": {
          "base_uri": "https://localhost:8080/"
        },
        "id": "gl3i6fzV5gqa",
        "outputId": "e053c06f-2ec0-43c8-d4e5-e220f8d14248"
      },
      "source": [
        "df.groupby('Churn Value')['Churn Label'].unique()"
      ],
      "execution_count": 6,
      "outputs": [
        {
          "output_type": "execute_result",
          "data": {
            "text/plain": [
              "Churn Value\n",
              "0     [No]\n",
              "1    [Yes]\n",
              "Name: Churn Label, dtype: object"
            ]
          },
          "metadata": {
            "tags": []
          },
          "execution_count": 6
        }
      ]
    },
    {
      "cell_type": "markdown",
      "metadata": {
        "id": "MRhabfIK8Ozt"
      },
      "source": [
        "So let's drop them:"
      ]
    },
    {
      "cell_type": "code",
      "metadata": {
        "colab": {
          "base_uri": "https://localhost:8080/",
          "height": 343
        },
        "id": "hUV4UvQr7BGB",
        "outputId": "9d6d4a01-0982-4894-86cc-ba199d38d735"
      },
      "source": [
        "df.drop(['Churn Label','Churn Score','CLTV','Churn Reason'],axis=1,inplace=True)\n",
        "df.head()"
      ],
      "execution_count": 7,
      "outputs": [
        {
          "output_type": "execute_result",
          "data": {
            "text/html": [
              "<div>\n",
              "<style scoped>\n",
              "    .dataframe tbody tr th:only-of-type {\n",
              "        vertical-align: middle;\n",
              "    }\n",
              "\n",
              "    .dataframe tbody tr th {\n",
              "        vertical-align: top;\n",
              "    }\n",
              "\n",
              "    .dataframe thead th {\n",
              "        text-align: right;\n",
              "    }\n",
              "</style>\n",
              "<table border=\"1\" class=\"dataframe\">\n",
              "  <thead>\n",
              "    <tr style=\"text-align: right;\">\n",
              "      <th></th>\n",
              "      <th>CustomerID</th>\n",
              "      <th>Count</th>\n",
              "      <th>Country</th>\n",
              "      <th>State</th>\n",
              "      <th>City</th>\n",
              "      <th>Zip Code</th>\n",
              "      <th>Lat Long</th>\n",
              "      <th>Latitude</th>\n",
              "      <th>Longitude</th>\n",
              "      <th>Gender</th>\n",
              "      <th>Senior Citizen</th>\n",
              "      <th>Partner</th>\n",
              "      <th>Dependents</th>\n",
              "      <th>Tenure Months</th>\n",
              "      <th>Phone Service</th>\n",
              "      <th>Multiple Lines</th>\n",
              "      <th>Internet Service</th>\n",
              "      <th>Online Security</th>\n",
              "      <th>Online Backup</th>\n",
              "      <th>Device Protection</th>\n",
              "      <th>Tech Support</th>\n",
              "      <th>Streaming TV</th>\n",
              "      <th>Streaming Movies</th>\n",
              "      <th>Contract</th>\n",
              "      <th>Paperless Billing</th>\n",
              "      <th>Payment Method</th>\n",
              "      <th>Monthly Charges</th>\n",
              "      <th>Total Charges</th>\n",
              "      <th>Churn Value</th>\n",
              "    </tr>\n",
              "  </thead>\n",
              "  <tbody>\n",
              "    <tr>\n",
              "      <th>0</th>\n",
              "      <td>3668-QPYBK</td>\n",
              "      <td>1</td>\n",
              "      <td>United States</td>\n",
              "      <td>California</td>\n",
              "      <td>Los Angeles</td>\n",
              "      <td>90003</td>\n",
              "      <td>33.964131, -118.272783</td>\n",
              "      <td>33.964131</td>\n",
              "      <td>-118.272783</td>\n",
              "      <td>Male</td>\n",
              "      <td>No</td>\n",
              "      <td>No</td>\n",
              "      <td>No</td>\n",
              "      <td>2</td>\n",
              "      <td>Yes</td>\n",
              "      <td>No</td>\n",
              "      <td>DSL</td>\n",
              "      <td>Yes</td>\n",
              "      <td>Yes</td>\n",
              "      <td>No</td>\n",
              "      <td>No</td>\n",
              "      <td>No</td>\n",
              "      <td>No</td>\n",
              "      <td>Month-to-month</td>\n",
              "      <td>Yes</td>\n",
              "      <td>Mailed check</td>\n",
              "      <td>53.85</td>\n",
              "      <td>108.15</td>\n",
              "      <td>1</td>\n",
              "    </tr>\n",
              "    <tr>\n",
              "      <th>1</th>\n",
              "      <td>9237-HQITU</td>\n",
              "      <td>1</td>\n",
              "      <td>United States</td>\n",
              "      <td>California</td>\n",
              "      <td>Los Angeles</td>\n",
              "      <td>90005</td>\n",
              "      <td>34.059281, -118.30742</td>\n",
              "      <td>34.059281</td>\n",
              "      <td>-118.307420</td>\n",
              "      <td>Female</td>\n",
              "      <td>No</td>\n",
              "      <td>No</td>\n",
              "      <td>Yes</td>\n",
              "      <td>2</td>\n",
              "      <td>Yes</td>\n",
              "      <td>No</td>\n",
              "      <td>Fiber optic</td>\n",
              "      <td>No</td>\n",
              "      <td>No</td>\n",
              "      <td>No</td>\n",
              "      <td>No</td>\n",
              "      <td>No</td>\n",
              "      <td>No</td>\n",
              "      <td>Month-to-month</td>\n",
              "      <td>Yes</td>\n",
              "      <td>Electronic check</td>\n",
              "      <td>70.70</td>\n",
              "      <td>151.65</td>\n",
              "      <td>1</td>\n",
              "    </tr>\n",
              "    <tr>\n",
              "      <th>2</th>\n",
              "      <td>9305-CDSKC</td>\n",
              "      <td>1</td>\n",
              "      <td>United States</td>\n",
              "      <td>California</td>\n",
              "      <td>Los Angeles</td>\n",
              "      <td>90006</td>\n",
              "      <td>34.048013, -118.293953</td>\n",
              "      <td>34.048013</td>\n",
              "      <td>-118.293953</td>\n",
              "      <td>Female</td>\n",
              "      <td>No</td>\n",
              "      <td>No</td>\n",
              "      <td>Yes</td>\n",
              "      <td>8</td>\n",
              "      <td>Yes</td>\n",
              "      <td>Yes</td>\n",
              "      <td>Fiber optic</td>\n",
              "      <td>No</td>\n",
              "      <td>No</td>\n",
              "      <td>Yes</td>\n",
              "      <td>No</td>\n",
              "      <td>Yes</td>\n",
              "      <td>Yes</td>\n",
              "      <td>Month-to-month</td>\n",
              "      <td>Yes</td>\n",
              "      <td>Electronic check</td>\n",
              "      <td>99.65</td>\n",
              "      <td>820.5</td>\n",
              "      <td>1</td>\n",
              "    </tr>\n",
              "    <tr>\n",
              "      <th>3</th>\n",
              "      <td>7892-POOKP</td>\n",
              "      <td>1</td>\n",
              "      <td>United States</td>\n",
              "      <td>California</td>\n",
              "      <td>Los Angeles</td>\n",
              "      <td>90010</td>\n",
              "      <td>34.062125, -118.315709</td>\n",
              "      <td>34.062125</td>\n",
              "      <td>-118.315709</td>\n",
              "      <td>Female</td>\n",
              "      <td>No</td>\n",
              "      <td>Yes</td>\n",
              "      <td>Yes</td>\n",
              "      <td>28</td>\n",
              "      <td>Yes</td>\n",
              "      <td>Yes</td>\n",
              "      <td>Fiber optic</td>\n",
              "      <td>No</td>\n",
              "      <td>No</td>\n",
              "      <td>Yes</td>\n",
              "      <td>Yes</td>\n",
              "      <td>Yes</td>\n",
              "      <td>Yes</td>\n",
              "      <td>Month-to-month</td>\n",
              "      <td>Yes</td>\n",
              "      <td>Electronic check</td>\n",
              "      <td>104.80</td>\n",
              "      <td>3046.05</td>\n",
              "      <td>1</td>\n",
              "    </tr>\n",
              "    <tr>\n",
              "      <th>4</th>\n",
              "      <td>0280-XJGEX</td>\n",
              "      <td>1</td>\n",
              "      <td>United States</td>\n",
              "      <td>California</td>\n",
              "      <td>Los Angeles</td>\n",
              "      <td>90015</td>\n",
              "      <td>34.039224, -118.266293</td>\n",
              "      <td>34.039224</td>\n",
              "      <td>-118.266293</td>\n",
              "      <td>Male</td>\n",
              "      <td>No</td>\n",
              "      <td>No</td>\n",
              "      <td>Yes</td>\n",
              "      <td>49</td>\n",
              "      <td>Yes</td>\n",
              "      <td>Yes</td>\n",
              "      <td>Fiber optic</td>\n",
              "      <td>No</td>\n",
              "      <td>Yes</td>\n",
              "      <td>Yes</td>\n",
              "      <td>No</td>\n",
              "      <td>Yes</td>\n",
              "      <td>Yes</td>\n",
              "      <td>Month-to-month</td>\n",
              "      <td>Yes</td>\n",
              "      <td>Bank transfer (automatic)</td>\n",
              "      <td>103.70</td>\n",
              "      <td>5036.3</td>\n",
              "      <td>1</td>\n",
              "    </tr>\n",
              "  </tbody>\n",
              "</table>\n",
              "</div>"
            ],
            "text/plain": [
              "   CustomerID  Count        Country  ... Monthly Charges Total Charges  Churn Value\n",
              "0  3668-QPYBK      1  United States  ...           53.85        108.15            1\n",
              "1  9237-HQITU      1  United States  ...           70.70        151.65            1\n",
              "2  9305-CDSKC      1  United States  ...           99.65         820.5            1\n",
              "3  7892-POOKP      1  United States  ...          104.80       3046.05            1\n",
              "4  0280-XJGEX      1  United States  ...          103.70        5036.3            1\n",
              "\n",
              "[5 rows x 29 columns]"
            ]
          },
          "metadata": {
            "tags": []
          },
          "execution_count": 7
        }
      ]
    },
    {
      "cell_type": "markdown",
      "metadata": {
        "id": "FHhNTtyc_ULE"
      },
      "source": [
        "Next, we can get some idea about how informative each column is by counting the unique values:"
      ]
    },
    {
      "cell_type": "code",
      "metadata": {
        "colab": {
          "base_uri": "https://localhost:8080/"
        },
        "id": "XMlKUH268qmP",
        "outputId": "71692c23-417d-4415-80af-bca064d6de4e"
      },
      "source": [
        "for col in df.columns:\n",
        "  print(col, len(df[col].unique()))"
      ],
      "execution_count": 8,
      "outputs": [
        {
          "output_type": "stream",
          "text": [
            "CustomerID 7043\n",
            "Count 1\n",
            "Country 1\n",
            "State 1\n",
            "City 1129\n",
            "Zip Code 1652\n",
            "Lat Long 1652\n",
            "Latitude 1652\n",
            "Longitude 1651\n",
            "Gender 2\n",
            "Senior Citizen 2\n",
            "Partner 2\n",
            "Dependents 2\n",
            "Tenure Months 73\n",
            "Phone Service 2\n",
            "Multiple Lines 3\n",
            "Internet Service 3\n",
            "Online Security 3\n",
            "Online Backup 3\n",
            "Device Protection 3\n",
            "Tech Support 3\n",
            "Streaming TV 3\n",
            "Streaming Movies 3\n",
            "Contract 3\n",
            "Paperless Billing 2\n",
            "Payment Method 4\n",
            "Monthly Charges 1585\n",
            "Total Charges 6531\n",
            "Churn Value 2\n"
          ],
          "name": "stdout"
        }
      ]
    },
    {
      "cell_type": "markdown",
      "metadata": {
        "id": "5rnZIm3p_qqo"
      },
      "source": [
        "Uninformative attributes are also called redundant attributes, and although there is no impact from information perspective, keeping those redundant attributes can slow down the training time. So let's remove them:"
      ]
    },
    {
      "cell_type": "code",
      "metadata": {
        "colab": {
          "base_uri": "https://localhost:8080/",
          "height": 343
        },
        "id": "JHi_PaLL-4Ly",
        "outputId": "08bd550d-2c33-49da-a26a-b2f774a2c79d"
      },
      "source": [
        "df.drop(['Count','Country','State'],axis=1,inplace=True)\n",
        "df.head()"
      ],
      "execution_count": 9,
      "outputs": [
        {
          "output_type": "execute_result",
          "data": {
            "text/html": [
              "<div>\n",
              "<style scoped>\n",
              "    .dataframe tbody tr th:only-of-type {\n",
              "        vertical-align: middle;\n",
              "    }\n",
              "\n",
              "    .dataframe tbody tr th {\n",
              "        vertical-align: top;\n",
              "    }\n",
              "\n",
              "    .dataframe thead th {\n",
              "        text-align: right;\n",
              "    }\n",
              "</style>\n",
              "<table border=\"1\" class=\"dataframe\">\n",
              "  <thead>\n",
              "    <tr style=\"text-align: right;\">\n",
              "      <th></th>\n",
              "      <th>CustomerID</th>\n",
              "      <th>City</th>\n",
              "      <th>Zip Code</th>\n",
              "      <th>Lat Long</th>\n",
              "      <th>Latitude</th>\n",
              "      <th>Longitude</th>\n",
              "      <th>Gender</th>\n",
              "      <th>Senior Citizen</th>\n",
              "      <th>Partner</th>\n",
              "      <th>Dependents</th>\n",
              "      <th>Tenure Months</th>\n",
              "      <th>Phone Service</th>\n",
              "      <th>Multiple Lines</th>\n",
              "      <th>Internet Service</th>\n",
              "      <th>Online Security</th>\n",
              "      <th>Online Backup</th>\n",
              "      <th>Device Protection</th>\n",
              "      <th>Tech Support</th>\n",
              "      <th>Streaming TV</th>\n",
              "      <th>Streaming Movies</th>\n",
              "      <th>Contract</th>\n",
              "      <th>Paperless Billing</th>\n",
              "      <th>Payment Method</th>\n",
              "      <th>Monthly Charges</th>\n",
              "      <th>Total Charges</th>\n",
              "      <th>Churn Value</th>\n",
              "    </tr>\n",
              "  </thead>\n",
              "  <tbody>\n",
              "    <tr>\n",
              "      <th>0</th>\n",
              "      <td>3668-QPYBK</td>\n",
              "      <td>Los Angeles</td>\n",
              "      <td>90003</td>\n",
              "      <td>33.964131, -118.272783</td>\n",
              "      <td>33.964131</td>\n",
              "      <td>-118.272783</td>\n",
              "      <td>Male</td>\n",
              "      <td>No</td>\n",
              "      <td>No</td>\n",
              "      <td>No</td>\n",
              "      <td>2</td>\n",
              "      <td>Yes</td>\n",
              "      <td>No</td>\n",
              "      <td>DSL</td>\n",
              "      <td>Yes</td>\n",
              "      <td>Yes</td>\n",
              "      <td>No</td>\n",
              "      <td>No</td>\n",
              "      <td>No</td>\n",
              "      <td>No</td>\n",
              "      <td>Month-to-month</td>\n",
              "      <td>Yes</td>\n",
              "      <td>Mailed check</td>\n",
              "      <td>53.85</td>\n",
              "      <td>108.15</td>\n",
              "      <td>1</td>\n",
              "    </tr>\n",
              "    <tr>\n",
              "      <th>1</th>\n",
              "      <td>9237-HQITU</td>\n",
              "      <td>Los Angeles</td>\n",
              "      <td>90005</td>\n",
              "      <td>34.059281, -118.30742</td>\n",
              "      <td>34.059281</td>\n",
              "      <td>-118.307420</td>\n",
              "      <td>Female</td>\n",
              "      <td>No</td>\n",
              "      <td>No</td>\n",
              "      <td>Yes</td>\n",
              "      <td>2</td>\n",
              "      <td>Yes</td>\n",
              "      <td>No</td>\n",
              "      <td>Fiber optic</td>\n",
              "      <td>No</td>\n",
              "      <td>No</td>\n",
              "      <td>No</td>\n",
              "      <td>No</td>\n",
              "      <td>No</td>\n",
              "      <td>No</td>\n",
              "      <td>Month-to-month</td>\n",
              "      <td>Yes</td>\n",
              "      <td>Electronic check</td>\n",
              "      <td>70.70</td>\n",
              "      <td>151.65</td>\n",
              "      <td>1</td>\n",
              "    </tr>\n",
              "    <tr>\n",
              "      <th>2</th>\n",
              "      <td>9305-CDSKC</td>\n",
              "      <td>Los Angeles</td>\n",
              "      <td>90006</td>\n",
              "      <td>34.048013, -118.293953</td>\n",
              "      <td>34.048013</td>\n",
              "      <td>-118.293953</td>\n",
              "      <td>Female</td>\n",
              "      <td>No</td>\n",
              "      <td>No</td>\n",
              "      <td>Yes</td>\n",
              "      <td>8</td>\n",
              "      <td>Yes</td>\n",
              "      <td>Yes</td>\n",
              "      <td>Fiber optic</td>\n",
              "      <td>No</td>\n",
              "      <td>No</td>\n",
              "      <td>Yes</td>\n",
              "      <td>No</td>\n",
              "      <td>Yes</td>\n",
              "      <td>Yes</td>\n",
              "      <td>Month-to-month</td>\n",
              "      <td>Yes</td>\n",
              "      <td>Electronic check</td>\n",
              "      <td>99.65</td>\n",
              "      <td>820.5</td>\n",
              "      <td>1</td>\n",
              "    </tr>\n",
              "    <tr>\n",
              "      <th>3</th>\n",
              "      <td>7892-POOKP</td>\n",
              "      <td>Los Angeles</td>\n",
              "      <td>90010</td>\n",
              "      <td>34.062125, -118.315709</td>\n",
              "      <td>34.062125</td>\n",
              "      <td>-118.315709</td>\n",
              "      <td>Female</td>\n",
              "      <td>No</td>\n",
              "      <td>Yes</td>\n",
              "      <td>Yes</td>\n",
              "      <td>28</td>\n",
              "      <td>Yes</td>\n",
              "      <td>Yes</td>\n",
              "      <td>Fiber optic</td>\n",
              "      <td>No</td>\n",
              "      <td>No</td>\n",
              "      <td>Yes</td>\n",
              "      <td>Yes</td>\n",
              "      <td>Yes</td>\n",
              "      <td>Yes</td>\n",
              "      <td>Month-to-month</td>\n",
              "      <td>Yes</td>\n",
              "      <td>Electronic check</td>\n",
              "      <td>104.80</td>\n",
              "      <td>3046.05</td>\n",
              "      <td>1</td>\n",
              "    </tr>\n",
              "    <tr>\n",
              "      <th>4</th>\n",
              "      <td>0280-XJGEX</td>\n",
              "      <td>Los Angeles</td>\n",
              "      <td>90015</td>\n",
              "      <td>34.039224, -118.266293</td>\n",
              "      <td>34.039224</td>\n",
              "      <td>-118.266293</td>\n",
              "      <td>Male</td>\n",
              "      <td>No</td>\n",
              "      <td>No</td>\n",
              "      <td>Yes</td>\n",
              "      <td>49</td>\n",
              "      <td>Yes</td>\n",
              "      <td>Yes</td>\n",
              "      <td>Fiber optic</td>\n",
              "      <td>No</td>\n",
              "      <td>Yes</td>\n",
              "      <td>Yes</td>\n",
              "      <td>No</td>\n",
              "      <td>Yes</td>\n",
              "      <td>Yes</td>\n",
              "      <td>Month-to-month</td>\n",
              "      <td>Yes</td>\n",
              "      <td>Bank transfer (automatic)</td>\n",
              "      <td>103.70</td>\n",
              "      <td>5036.3</td>\n",
              "      <td>1</td>\n",
              "    </tr>\n",
              "  </tbody>\n",
              "</table>\n",
              "</div>"
            ],
            "text/plain": [
              "   CustomerID         City  ...  Total Charges Churn Value\n",
              "0  3668-QPYBK  Los Angeles  ...         108.15           1\n",
              "1  9237-HQITU  Los Angeles  ...         151.65           1\n",
              "2  9305-CDSKC  Los Angeles  ...          820.5           1\n",
              "3  7892-POOKP  Los Angeles  ...        3046.05           1\n",
              "4  0280-XJGEX  Los Angeles  ...         5036.3           1\n",
              "\n",
              "[5 rows x 26 columns]"
            ]
          },
          "metadata": {
            "tags": []
          },
          "execution_count": 9
        }
      ]
    },
    {
      "cell_type": "markdown",
      "metadata": {
        "id": "EZ2WeFprBkwY"
      },
      "source": [
        "Also note that column \"CustomerID\" should be removed and \"Lat Long\" is redundant as it is only a combination of column \"Latitude\" and \"Longitude\"."
      ]
    },
    {
      "cell_type": "code",
      "metadata": {
        "colab": {
          "base_uri": "https://localhost:8080/",
          "height": 343
        },
        "id": "tBxtF2PWBBiu",
        "outputId": "cfd108f2-617f-4104-ab7c-d9b23f8ce33f"
      },
      "source": [
        "df.drop(['CustomerID','Lat Long'],axis=1,inplace=True)\n",
        "df.head()"
      ],
      "execution_count": 10,
      "outputs": [
        {
          "output_type": "execute_result",
          "data": {
            "text/html": [
              "<div>\n",
              "<style scoped>\n",
              "    .dataframe tbody tr th:only-of-type {\n",
              "        vertical-align: middle;\n",
              "    }\n",
              "\n",
              "    .dataframe tbody tr th {\n",
              "        vertical-align: top;\n",
              "    }\n",
              "\n",
              "    .dataframe thead th {\n",
              "        text-align: right;\n",
              "    }\n",
              "</style>\n",
              "<table border=\"1\" class=\"dataframe\">\n",
              "  <thead>\n",
              "    <tr style=\"text-align: right;\">\n",
              "      <th></th>\n",
              "      <th>City</th>\n",
              "      <th>Zip Code</th>\n",
              "      <th>Latitude</th>\n",
              "      <th>Longitude</th>\n",
              "      <th>Gender</th>\n",
              "      <th>Senior Citizen</th>\n",
              "      <th>Partner</th>\n",
              "      <th>Dependents</th>\n",
              "      <th>Tenure Months</th>\n",
              "      <th>Phone Service</th>\n",
              "      <th>Multiple Lines</th>\n",
              "      <th>Internet Service</th>\n",
              "      <th>Online Security</th>\n",
              "      <th>Online Backup</th>\n",
              "      <th>Device Protection</th>\n",
              "      <th>Tech Support</th>\n",
              "      <th>Streaming TV</th>\n",
              "      <th>Streaming Movies</th>\n",
              "      <th>Contract</th>\n",
              "      <th>Paperless Billing</th>\n",
              "      <th>Payment Method</th>\n",
              "      <th>Monthly Charges</th>\n",
              "      <th>Total Charges</th>\n",
              "      <th>Churn Value</th>\n",
              "    </tr>\n",
              "  </thead>\n",
              "  <tbody>\n",
              "    <tr>\n",
              "      <th>0</th>\n",
              "      <td>Los Angeles</td>\n",
              "      <td>90003</td>\n",
              "      <td>33.964131</td>\n",
              "      <td>-118.272783</td>\n",
              "      <td>Male</td>\n",
              "      <td>No</td>\n",
              "      <td>No</td>\n",
              "      <td>No</td>\n",
              "      <td>2</td>\n",
              "      <td>Yes</td>\n",
              "      <td>No</td>\n",
              "      <td>DSL</td>\n",
              "      <td>Yes</td>\n",
              "      <td>Yes</td>\n",
              "      <td>No</td>\n",
              "      <td>No</td>\n",
              "      <td>No</td>\n",
              "      <td>No</td>\n",
              "      <td>Month-to-month</td>\n",
              "      <td>Yes</td>\n",
              "      <td>Mailed check</td>\n",
              "      <td>53.85</td>\n",
              "      <td>108.15</td>\n",
              "      <td>1</td>\n",
              "    </tr>\n",
              "    <tr>\n",
              "      <th>1</th>\n",
              "      <td>Los Angeles</td>\n",
              "      <td>90005</td>\n",
              "      <td>34.059281</td>\n",
              "      <td>-118.307420</td>\n",
              "      <td>Female</td>\n",
              "      <td>No</td>\n",
              "      <td>No</td>\n",
              "      <td>Yes</td>\n",
              "      <td>2</td>\n",
              "      <td>Yes</td>\n",
              "      <td>No</td>\n",
              "      <td>Fiber optic</td>\n",
              "      <td>No</td>\n",
              "      <td>No</td>\n",
              "      <td>No</td>\n",
              "      <td>No</td>\n",
              "      <td>No</td>\n",
              "      <td>No</td>\n",
              "      <td>Month-to-month</td>\n",
              "      <td>Yes</td>\n",
              "      <td>Electronic check</td>\n",
              "      <td>70.70</td>\n",
              "      <td>151.65</td>\n",
              "      <td>1</td>\n",
              "    </tr>\n",
              "    <tr>\n",
              "      <th>2</th>\n",
              "      <td>Los Angeles</td>\n",
              "      <td>90006</td>\n",
              "      <td>34.048013</td>\n",
              "      <td>-118.293953</td>\n",
              "      <td>Female</td>\n",
              "      <td>No</td>\n",
              "      <td>No</td>\n",
              "      <td>Yes</td>\n",
              "      <td>8</td>\n",
              "      <td>Yes</td>\n",
              "      <td>Yes</td>\n",
              "      <td>Fiber optic</td>\n",
              "      <td>No</td>\n",
              "      <td>No</td>\n",
              "      <td>Yes</td>\n",
              "      <td>No</td>\n",
              "      <td>Yes</td>\n",
              "      <td>Yes</td>\n",
              "      <td>Month-to-month</td>\n",
              "      <td>Yes</td>\n",
              "      <td>Electronic check</td>\n",
              "      <td>99.65</td>\n",
              "      <td>820.5</td>\n",
              "      <td>1</td>\n",
              "    </tr>\n",
              "    <tr>\n",
              "      <th>3</th>\n",
              "      <td>Los Angeles</td>\n",
              "      <td>90010</td>\n",
              "      <td>34.062125</td>\n",
              "      <td>-118.315709</td>\n",
              "      <td>Female</td>\n",
              "      <td>No</td>\n",
              "      <td>Yes</td>\n",
              "      <td>Yes</td>\n",
              "      <td>28</td>\n",
              "      <td>Yes</td>\n",
              "      <td>Yes</td>\n",
              "      <td>Fiber optic</td>\n",
              "      <td>No</td>\n",
              "      <td>No</td>\n",
              "      <td>Yes</td>\n",
              "      <td>Yes</td>\n",
              "      <td>Yes</td>\n",
              "      <td>Yes</td>\n",
              "      <td>Month-to-month</td>\n",
              "      <td>Yes</td>\n",
              "      <td>Electronic check</td>\n",
              "      <td>104.80</td>\n",
              "      <td>3046.05</td>\n",
              "      <td>1</td>\n",
              "    </tr>\n",
              "    <tr>\n",
              "      <th>4</th>\n",
              "      <td>Los Angeles</td>\n",
              "      <td>90015</td>\n",
              "      <td>34.039224</td>\n",
              "      <td>-118.266293</td>\n",
              "      <td>Male</td>\n",
              "      <td>No</td>\n",
              "      <td>No</td>\n",
              "      <td>Yes</td>\n",
              "      <td>49</td>\n",
              "      <td>Yes</td>\n",
              "      <td>Yes</td>\n",
              "      <td>Fiber optic</td>\n",
              "      <td>No</td>\n",
              "      <td>Yes</td>\n",
              "      <td>Yes</td>\n",
              "      <td>No</td>\n",
              "      <td>Yes</td>\n",
              "      <td>Yes</td>\n",
              "      <td>Month-to-month</td>\n",
              "      <td>Yes</td>\n",
              "      <td>Bank transfer (automatic)</td>\n",
              "      <td>103.70</td>\n",
              "      <td>5036.3</td>\n",
              "      <td>1</td>\n",
              "    </tr>\n",
              "  </tbody>\n",
              "</table>\n",
              "</div>"
            ],
            "text/plain": [
              "          City  Zip Code   Latitude  ...  Monthly Charges Total Charges Churn Value\n",
              "0  Los Angeles     90003  33.964131  ...            53.85        108.15           1\n",
              "1  Los Angeles     90005  34.059281  ...            70.70        151.65           1\n",
              "2  Los Angeles     90006  34.048013  ...            99.65         820.5           1\n",
              "3  Los Angeles     90010  34.062125  ...           104.80       3046.05           1\n",
              "4  Los Angeles     90015  34.039224  ...           103.70        5036.3           1\n",
              "\n",
              "[5 rows x 24 columns]"
            ]
          },
          "metadata": {
            "tags": []
          },
          "execution_count": 10
        }
      ]
    },
    {
      "cell_type": "markdown",
      "metadata": {
        "id": "C28qDIWHFZn1"
      },
      "source": [
        "Next, remove white spaces so that later we can draw tree structures for XGBoost model."
      ]
    },
    {
      "cell_type": "code",
      "metadata": {
        "colab": {
          "base_uri": "https://localhost:8080/"
        },
        "id": "ii8QEY4_B4G1",
        "outputId": "c7276fd7-7807-4887-c0ea-4a5959fb5303"
      },
      "source": [
        "df['City'].replace(' ','_',regex=True,inplace=True)\n",
        "df['City'].head()"
      ],
      "execution_count": 11,
      "outputs": [
        {
          "output_type": "execute_result",
          "data": {
            "text/plain": [
              "0    Los_Angeles\n",
              "1    Los_Angeles\n",
              "2    Los_Angeles\n",
              "3    Los_Angeles\n",
              "4    Los_Angeles\n",
              "Name: City, dtype: object"
            ]
          },
          "metadata": {
            "tags": []
          },
          "execution_count": 11
        }
      ]
    },
    {
      "cell_type": "markdown",
      "metadata": {
        "id": "dm7F9gzeGbTH"
      },
      "source": [
        "Also replace white spaces with underscore for column names."
      ]
    },
    {
      "cell_type": "code",
      "metadata": {
        "colab": {
          "base_uri": "https://localhost:8080/"
        },
        "id": "QN24EbULFtsE",
        "outputId": "500812a0-8c13-4d72-9ba2-f70a855b3625"
      },
      "source": [
        "df.columns=df.columns.str.replace(' ','_')\n",
        "df.columns"
      ],
      "execution_count": 12,
      "outputs": [
        {
          "output_type": "execute_result",
          "data": {
            "text/plain": [
              "Index(['City', 'Zip_Code', 'Latitude', 'Longitude', 'Gender', 'Senior_Citizen',\n",
              "       'Partner', 'Dependents', 'Tenure_Months', 'Phone_Service',\n",
              "       'Multiple_Lines', 'Internet_Service', 'Online_Security',\n",
              "       'Online_Backup', 'Device_Protection', 'Tech_Support', 'Streaming_TV',\n",
              "       'Streaming_Movies', 'Contract', 'Paperless_Billing', 'Payment_Method',\n",
              "       'Monthly_Charges', 'Total_Charges', 'Churn_Value'],\n",
              "      dtype='object')"
            ]
          },
          "metadata": {
            "tags": []
          },
          "execution_count": 12
        }
      ]
    },
    {
      "cell_type": "markdown",
      "metadata": {
        "id": "_ctG4umwJDe3"
      },
      "source": [
        "### 2. Missing Data\n",
        "\n",
        "Missing data can have large impact on modeling. A bunch of modeling algorithms cannot handle missing data, therefore, it's best to handle the missing data as a step in the preprocessing procedure."
      ]
    },
    {
      "cell_type": "markdown",
      "metadata": {
        "id": "IGURLR9wJ_YO"
      },
      "source": [
        "####2.1 Identify missing data\n",
        "The first step is to identify the missing values."
      ]
    },
    {
      "cell_type": "code",
      "metadata": {
        "colab": {
          "base_uri": "https://localhost:8080/"
        },
        "id": "ECBtoBfAGnB_",
        "outputId": "3b242b9d-84c3-4c19-80a0-a782b52ac018"
      },
      "source": [
        "for col in df.columns:\n",
        "  print(col, df[col].isnull().sum())"
      ],
      "execution_count": 13,
      "outputs": [
        {
          "output_type": "stream",
          "text": [
            "City 0\n",
            "Zip_Code 0\n",
            "Latitude 0\n",
            "Longitude 0\n",
            "Gender 0\n",
            "Senior_Citizen 0\n",
            "Partner 0\n",
            "Dependents 0\n",
            "Tenure_Months 0\n",
            "Phone_Service 0\n",
            "Multiple_Lines 0\n",
            "Internet_Service 0\n",
            "Online_Security 0\n",
            "Online_Backup 0\n",
            "Device_Protection 0\n",
            "Tech_Support 0\n",
            "Streaming_TV 0\n",
            "Streaming_Movies 0\n",
            "Contract 0\n",
            "Paperless_Billing 0\n",
            "Payment_Method 0\n",
            "Monthly_Charges 0\n",
            "Total_Charges 0\n",
            "Churn_Value 0\n"
          ],
          "name": "stdout"
        }
      ]
    },
    {
      "cell_type": "markdown",
      "metadata": {
        "id": "DTgY0m7Rnbmx"
      },
      "source": [
        "Sometimes we can take a look at the data types to see if the data type is consistent with the meaning of the attribute."
      ]
    },
    {
      "cell_type": "code",
      "metadata": {
        "colab": {
          "base_uri": "https://localhost:8080/"
        },
        "id": "vHBFHP9ylQVB",
        "outputId": "7f928f7a-4672-4114-cbb7-2a64dea13b31"
      },
      "source": [
        "df.dtypes"
      ],
      "execution_count": 14,
      "outputs": [
        {
          "output_type": "execute_result",
          "data": {
            "text/plain": [
              "City                  object\n",
              "Zip_Code               int64\n",
              "Latitude             float64\n",
              "Longitude            float64\n",
              "Gender                object\n",
              "Senior_Citizen        object\n",
              "Partner               object\n",
              "Dependents            object\n",
              "Tenure_Months          int64\n",
              "Phone_Service         object\n",
              "Multiple_Lines        object\n",
              "Internet_Service      object\n",
              "Online_Security       object\n",
              "Online_Backup         object\n",
              "Device_Protection     object\n",
              "Tech_Support          object\n",
              "Streaming_TV          object\n",
              "Streaming_Movies      object\n",
              "Contract              object\n",
              "Paperless_Billing     object\n",
              "Payment_Method        object\n",
              "Monthly_Charges      float64\n",
              "Total_Charges         object\n",
              "Churn_Value            int64\n",
              "dtype: object"
            ]
          },
          "metadata": {
            "tags": []
          },
          "execution_count": 14
        }
      ]
    },
    {
      "cell_type": "markdown",
      "metadata": {
        "id": "Rq-fryienm0x"
      },
      "source": [
        "While we can see that most data types are consistent, meaning that categorical attributes have \"object\" data type and numerical attributes have \"int\" or \"float\", the attribute \"Total_Charges\" which should be numerical is showing as \"object\". Let's try convert it to numbers."
      ]
    },
    {
      "cell_type": "code",
      "metadata": {
        "colab": {
          "base_uri": "https://localhost:8080/"
        },
        "id": "WVkzmXqFnWx4",
        "outputId": "1677e4d0-a99f-4ab1-ede9-f13c0c067ecc"
      },
      "source": [
        "for r in range(df.shape[0]):\n",
        "  try:\n",
        "    x = float(df['Total_Charges'][r])\n",
        "  except:\n",
        "    print(\"Index:{}, Value:'{}'\".format(r, df['Total_Charges'][r]))"
      ],
      "execution_count": 15,
      "outputs": [
        {
          "output_type": "stream",
          "text": [
            "Index:2234, Value:' '\n",
            "Index:2438, Value:' '\n",
            "Index:2568, Value:' '\n",
            "Index:2667, Value:' '\n",
            "Index:2856, Value:' '\n",
            "Index:4331, Value:' '\n",
            "Index:4687, Value:' '\n",
            "Index:5104, Value:' '\n",
            "Index:5719, Value:' '\n",
            "Index:6772, Value:' '\n",
            "Index:6840, Value:' '\n"
          ],
          "name": "stdout"
        }
      ]
    },
    {
      "cell_type": "markdown",
      "metadata": {
        "id": "Jdpzhd8WqDgp"
      },
      "source": [
        "Now we can see that there are a few records that has blank values for \"Total_Charges\" and that explains why the data type is inconsistent."
      ]
    },
    {
      "cell_type": "markdown",
      "metadata": {
        "id": "2vl7bc9GqbRq"
      },
      "source": [
        "####2.2 Deal with missing data\n",
        "\n",
        "To deal with missing data, one way is to remove columns or rows that contain the missing data if there is a high proportion of missing, or we should try to impute the missing values.\n",
        "\n",
        "For XGBoost, however, the internal way of dealing with missing data is to treat them as zeros due to \"Sparcity-Aware Split Finding\". Therefore, that's what we will do here."
      ]
    },
    {
      "cell_type": "code",
      "metadata": {
        "id": "cowXp50fo7mH"
      },
      "source": [
        "df.loc[df['Total_Charges']==' ','Total_Charges']='0'"
      ],
      "execution_count": 16,
      "outputs": []
    },
    {
      "cell_type": "markdown",
      "metadata": {
        "id": "AG4SMyKHs8sH"
      },
      "source": [
        "Take a look at row 2234 to double check the blank space in \"Total_Charges\" has indeed replaced by '0'."
      ]
    },
    {
      "cell_type": "code",
      "metadata": {
        "colab": {
          "base_uri": "https://localhost:8080/"
        },
        "id": "xOjV7XmkrnvY",
        "outputId": "22e89834-ce92-48f1-e44d-8483a0530662"
      },
      "source": [
        "df.iloc[2234]"
      ],
      "execution_count": 17,
      "outputs": [
        {
          "output_type": "execute_result",
          "data": {
            "text/plain": [
              "City                            San_Bernardino\n",
              "Zip_Code                                 92408\n",
              "Latitude                               34.0849\n",
              "Longitude                             -117.258\n",
              "Gender                                  Female\n",
              "Senior_Citizen                              No\n",
              "Partner                                    Yes\n",
              "Dependents                                  No\n",
              "Tenure_Months                                0\n",
              "Phone_Service                               No\n",
              "Multiple_Lines                No phone service\n",
              "Internet_Service                           DSL\n",
              "Online_Security                            Yes\n",
              "Online_Backup                               No\n",
              "Device_Protection                          Yes\n",
              "Tech_Support                               Yes\n",
              "Streaming_TV                               Yes\n",
              "Streaming_Movies                            No\n",
              "Contract                              Two year\n",
              "Paperless_Billing                          Yes\n",
              "Payment_Method       Bank transfer (automatic)\n",
              "Monthly_Charges                          52.55\n",
              "Total_Charges                                0\n",
              "Churn_Value                                  0\n",
              "Name: 2234, dtype: object"
            ]
          },
          "metadata": {
            "tags": []
          },
          "execution_count": 17
        }
      ]
    },
    {
      "cell_type": "markdown",
      "metadata": {
        "id": "XMBzDGgttHce"
      },
      "source": [
        "Then we can safely convert the value of \"Total_Charges\" to float type."
      ]
    },
    {
      "cell_type": "code",
      "metadata": {
        "id": "bv8HTFIEryoG"
      },
      "source": [
        "df['Total_Charges']=df['Total_Charges'].astype('float64')"
      ],
      "execution_count": 18,
      "outputs": []
    },
    {
      "cell_type": "code",
      "metadata": {
        "colab": {
          "base_uri": "https://localhost:8080/"
        },
        "id": "dvs-y9Bhsq2c",
        "outputId": "41c7485a-bb3d-4408-af0b-5cc7c8489c40"
      },
      "source": [
        "df.dtypes"
      ],
      "execution_count": 19,
      "outputs": [
        {
          "output_type": "execute_result",
          "data": {
            "text/plain": [
              "City                  object\n",
              "Zip_Code               int64\n",
              "Latitude             float64\n",
              "Longitude            float64\n",
              "Gender                object\n",
              "Senior_Citizen        object\n",
              "Partner               object\n",
              "Dependents            object\n",
              "Tenure_Months          int64\n",
              "Phone_Service         object\n",
              "Multiple_Lines        object\n",
              "Internet_Service      object\n",
              "Online_Security       object\n",
              "Online_Backup         object\n",
              "Device_Protection     object\n",
              "Tech_Support          object\n",
              "Streaming_TV          object\n",
              "Streaming_Movies      object\n",
              "Contract              object\n",
              "Paperless_Billing     object\n",
              "Payment_Method        object\n",
              "Monthly_Charges      float64\n",
              "Total_Charges        float64\n",
              "Churn_Value            int64\n",
              "dtype: object"
            ]
          },
          "metadata": {
            "tags": []
          },
          "execution_count": 19
        }
      ]
    },
    {
      "cell_type": "markdown",
      "metadata": {
        "id": "Pyv3f2HxyfWV"
      },
      "source": [
        "Then we can further replace the white spaces between words with underscores in all values in the data frame since we have dealt with the missing data."
      ]
    },
    {
      "cell_type": "code",
      "metadata": {
        "colab": {
          "base_uri": "https://localhost:8080/",
          "height": 309
        },
        "id": "RCrWXKBBstYI",
        "outputId": "2e5ba01e-ddad-468d-cc26-251f24bcf71f"
      },
      "source": [
        "df.replace(' ','_',regex=True,inplace=True)\n",
        "df.head()"
      ],
      "execution_count": 20,
      "outputs": [
        {
          "output_type": "execute_result",
          "data": {
            "text/html": [
              "<div>\n",
              "<style scoped>\n",
              "    .dataframe tbody tr th:only-of-type {\n",
              "        vertical-align: middle;\n",
              "    }\n",
              "\n",
              "    .dataframe tbody tr th {\n",
              "        vertical-align: top;\n",
              "    }\n",
              "\n",
              "    .dataframe thead th {\n",
              "        text-align: right;\n",
              "    }\n",
              "</style>\n",
              "<table border=\"1\" class=\"dataframe\">\n",
              "  <thead>\n",
              "    <tr style=\"text-align: right;\">\n",
              "      <th></th>\n",
              "      <th>City</th>\n",
              "      <th>Zip_Code</th>\n",
              "      <th>Latitude</th>\n",
              "      <th>Longitude</th>\n",
              "      <th>Gender</th>\n",
              "      <th>Senior_Citizen</th>\n",
              "      <th>Partner</th>\n",
              "      <th>Dependents</th>\n",
              "      <th>Tenure_Months</th>\n",
              "      <th>Phone_Service</th>\n",
              "      <th>Multiple_Lines</th>\n",
              "      <th>Internet_Service</th>\n",
              "      <th>Online_Security</th>\n",
              "      <th>Online_Backup</th>\n",
              "      <th>Device_Protection</th>\n",
              "      <th>Tech_Support</th>\n",
              "      <th>Streaming_TV</th>\n",
              "      <th>Streaming_Movies</th>\n",
              "      <th>Contract</th>\n",
              "      <th>Paperless_Billing</th>\n",
              "      <th>Payment_Method</th>\n",
              "      <th>Monthly_Charges</th>\n",
              "      <th>Total_Charges</th>\n",
              "      <th>Churn_Value</th>\n",
              "    </tr>\n",
              "  </thead>\n",
              "  <tbody>\n",
              "    <tr>\n",
              "      <th>0</th>\n",
              "      <td>Los_Angeles</td>\n",
              "      <td>90003</td>\n",
              "      <td>33.964131</td>\n",
              "      <td>-118.272783</td>\n",
              "      <td>Male</td>\n",
              "      <td>No</td>\n",
              "      <td>No</td>\n",
              "      <td>No</td>\n",
              "      <td>2</td>\n",
              "      <td>Yes</td>\n",
              "      <td>No</td>\n",
              "      <td>DSL</td>\n",
              "      <td>Yes</td>\n",
              "      <td>Yes</td>\n",
              "      <td>No</td>\n",
              "      <td>No</td>\n",
              "      <td>No</td>\n",
              "      <td>No</td>\n",
              "      <td>Month-to-month</td>\n",
              "      <td>Yes</td>\n",
              "      <td>Mailed_check</td>\n",
              "      <td>53.85</td>\n",
              "      <td>108.15</td>\n",
              "      <td>1</td>\n",
              "    </tr>\n",
              "    <tr>\n",
              "      <th>1</th>\n",
              "      <td>Los_Angeles</td>\n",
              "      <td>90005</td>\n",
              "      <td>34.059281</td>\n",
              "      <td>-118.307420</td>\n",
              "      <td>Female</td>\n",
              "      <td>No</td>\n",
              "      <td>No</td>\n",
              "      <td>Yes</td>\n",
              "      <td>2</td>\n",
              "      <td>Yes</td>\n",
              "      <td>No</td>\n",
              "      <td>Fiber_optic</td>\n",
              "      <td>No</td>\n",
              "      <td>No</td>\n",
              "      <td>No</td>\n",
              "      <td>No</td>\n",
              "      <td>No</td>\n",
              "      <td>No</td>\n",
              "      <td>Month-to-month</td>\n",
              "      <td>Yes</td>\n",
              "      <td>Electronic_check</td>\n",
              "      <td>70.70</td>\n",
              "      <td>151.65</td>\n",
              "      <td>1</td>\n",
              "    </tr>\n",
              "    <tr>\n",
              "      <th>2</th>\n",
              "      <td>Los_Angeles</td>\n",
              "      <td>90006</td>\n",
              "      <td>34.048013</td>\n",
              "      <td>-118.293953</td>\n",
              "      <td>Female</td>\n",
              "      <td>No</td>\n",
              "      <td>No</td>\n",
              "      <td>Yes</td>\n",
              "      <td>8</td>\n",
              "      <td>Yes</td>\n",
              "      <td>Yes</td>\n",
              "      <td>Fiber_optic</td>\n",
              "      <td>No</td>\n",
              "      <td>No</td>\n",
              "      <td>Yes</td>\n",
              "      <td>No</td>\n",
              "      <td>Yes</td>\n",
              "      <td>Yes</td>\n",
              "      <td>Month-to-month</td>\n",
              "      <td>Yes</td>\n",
              "      <td>Electronic_check</td>\n",
              "      <td>99.65</td>\n",
              "      <td>820.50</td>\n",
              "      <td>1</td>\n",
              "    </tr>\n",
              "    <tr>\n",
              "      <th>3</th>\n",
              "      <td>Los_Angeles</td>\n",
              "      <td>90010</td>\n",
              "      <td>34.062125</td>\n",
              "      <td>-118.315709</td>\n",
              "      <td>Female</td>\n",
              "      <td>No</td>\n",
              "      <td>Yes</td>\n",
              "      <td>Yes</td>\n",
              "      <td>28</td>\n",
              "      <td>Yes</td>\n",
              "      <td>Yes</td>\n",
              "      <td>Fiber_optic</td>\n",
              "      <td>No</td>\n",
              "      <td>No</td>\n",
              "      <td>Yes</td>\n",
              "      <td>Yes</td>\n",
              "      <td>Yes</td>\n",
              "      <td>Yes</td>\n",
              "      <td>Month-to-month</td>\n",
              "      <td>Yes</td>\n",
              "      <td>Electronic_check</td>\n",
              "      <td>104.80</td>\n",
              "      <td>3046.05</td>\n",
              "      <td>1</td>\n",
              "    </tr>\n",
              "    <tr>\n",
              "      <th>4</th>\n",
              "      <td>Los_Angeles</td>\n",
              "      <td>90015</td>\n",
              "      <td>34.039224</td>\n",
              "      <td>-118.266293</td>\n",
              "      <td>Male</td>\n",
              "      <td>No</td>\n",
              "      <td>No</td>\n",
              "      <td>Yes</td>\n",
              "      <td>49</td>\n",
              "      <td>Yes</td>\n",
              "      <td>Yes</td>\n",
              "      <td>Fiber_optic</td>\n",
              "      <td>No</td>\n",
              "      <td>Yes</td>\n",
              "      <td>Yes</td>\n",
              "      <td>No</td>\n",
              "      <td>Yes</td>\n",
              "      <td>Yes</td>\n",
              "      <td>Month-to-month</td>\n",
              "      <td>Yes</td>\n",
              "      <td>Bank_transfer_(automatic)</td>\n",
              "      <td>103.70</td>\n",
              "      <td>5036.30</td>\n",
              "      <td>1</td>\n",
              "    </tr>\n",
              "  </tbody>\n",
              "</table>\n",
              "</div>"
            ],
            "text/plain": [
              "          City  Zip_Code  ...  Total_Charges  Churn_Value\n",
              "0  Los_Angeles     90003  ...         108.15            1\n",
              "1  Los_Angeles     90005  ...         151.65            1\n",
              "2  Los_Angeles     90006  ...         820.50            1\n",
              "3  Los_Angeles     90010  ...        3046.05            1\n",
              "4  Los_Angeles     90015  ...        5036.30            1\n",
              "\n",
              "[5 rows x 24 columns]"
            ]
          },
          "metadata": {
            "tags": []
          },
          "execution_count": 20
        }
      ]
    },
    {
      "cell_type": "markdown",
      "metadata": {
        "id": "S5B_kGC0zFuP"
      },
      "source": [
        "### 3. Data Formatting\n",
        "\n",
        "#### 3.1 Split dependent Y and independent data X\n"
      ]
    },
    {
      "cell_type": "code",
      "metadata": {
        "id": "-VBcazpVycNC"
      },
      "source": [
        "X=df.drop('Churn_Value',axis=1).copy()\n",
        "y=df['Churn_Value'].copy()"
      ],
      "execution_count": 21,
      "outputs": []
    },
    {
      "cell_type": "markdown",
      "metadata": {
        "id": "vbNu31sC0kQ_"
      },
      "source": [
        "#### 3.2 Further format attribute values in X\n",
        "\n",
        "For many machine learning algorithms, only numerical or boolean data is suitable, that means we need to further format the categorical values that has data type 'object' to make X suitable for modeling.\n",
        "\n",
        "Here, we will one-hot-encoding the categorical values."
      ]
    },
    {
      "cell_type": "code",
      "metadata": {
        "colab": {
          "base_uri": "https://localhost:8080/"
        },
        "id": "hgpYABUa0Omx",
        "outputId": "244c5d9c-9e55-428a-b4a3-5d7fd40e676c"
      },
      "source": [
        "categorical_cols=[col for col in df.columns if df[col].dtypes=='object']\n",
        "categorical_cols"
      ],
      "execution_count": 22,
      "outputs": [
        {
          "output_type": "execute_result",
          "data": {
            "text/plain": [
              "['City',\n",
              " 'Gender',\n",
              " 'Senior_Citizen',\n",
              " 'Partner',\n",
              " 'Dependents',\n",
              " 'Phone_Service',\n",
              " 'Multiple_Lines',\n",
              " 'Internet_Service',\n",
              " 'Online_Security',\n",
              " 'Online_Backup',\n",
              " 'Device_Protection',\n",
              " 'Tech_Support',\n",
              " 'Streaming_TV',\n",
              " 'Streaming_Movies',\n",
              " 'Contract',\n",
              " 'Paperless_Billing',\n",
              " 'Payment_Method']"
            ]
          },
          "metadata": {
            "tags": []
          },
          "execution_count": 22
        }
      ]
    },
    {
      "cell_type": "markdown",
      "metadata": {
        "id": "SEqqehuW-B4o"
      },
      "source": [
        "We can take a look at the most common values for the categorical attributes at the two groups with churn or no churn to get some idea of potential associations. "
      ]
    },
    {
      "cell_type": "code",
      "metadata": {
        "colab": {
          "base_uri": "https://localhost:8080/",
          "height": 196
        },
        "id": "ucsA3EcJ54Am",
        "outputId": "3ff49a44-e2a8-4803-d977-9595f18c5cac"
      },
      "source": [
        "df.groupby('Churn_Value')[categorical_cols].agg(lambda x: x.value_counts().index[0]) #get the most common value"
      ],
      "execution_count": 23,
      "outputs": [
        {
          "output_type": "execute_result",
          "data": {
            "text/html": [
              "<div>\n",
              "<style scoped>\n",
              "    .dataframe tbody tr th:only-of-type {\n",
              "        vertical-align: middle;\n",
              "    }\n",
              "\n",
              "    .dataframe tbody tr th {\n",
              "        vertical-align: top;\n",
              "    }\n",
              "\n",
              "    .dataframe thead th {\n",
              "        text-align: right;\n",
              "    }\n",
              "</style>\n",
              "<table border=\"1\" class=\"dataframe\">\n",
              "  <thead>\n",
              "    <tr style=\"text-align: right;\">\n",
              "      <th></th>\n",
              "      <th>City</th>\n",
              "      <th>Gender</th>\n",
              "      <th>Senior_Citizen</th>\n",
              "      <th>Partner</th>\n",
              "      <th>Dependents</th>\n",
              "      <th>Phone_Service</th>\n",
              "      <th>Multiple_Lines</th>\n",
              "      <th>Internet_Service</th>\n",
              "      <th>Online_Security</th>\n",
              "      <th>Online_Backup</th>\n",
              "      <th>Device_Protection</th>\n",
              "      <th>Tech_Support</th>\n",
              "      <th>Streaming_TV</th>\n",
              "      <th>Streaming_Movies</th>\n",
              "      <th>Contract</th>\n",
              "      <th>Paperless_Billing</th>\n",
              "      <th>Payment_Method</th>\n",
              "    </tr>\n",
              "    <tr>\n",
              "      <th>Churn_Value</th>\n",
              "      <th></th>\n",
              "      <th></th>\n",
              "      <th></th>\n",
              "      <th></th>\n",
              "      <th></th>\n",
              "      <th></th>\n",
              "      <th></th>\n",
              "      <th></th>\n",
              "      <th></th>\n",
              "      <th></th>\n",
              "      <th></th>\n",
              "      <th></th>\n",
              "      <th></th>\n",
              "      <th></th>\n",
              "      <th></th>\n",
              "      <th></th>\n",
              "      <th></th>\n",
              "    </tr>\n",
              "  </thead>\n",
              "  <tbody>\n",
              "    <tr>\n",
              "      <th>0</th>\n",
              "      <td>Los_Angeles</td>\n",
              "      <td>Male</td>\n",
              "      <td>No</td>\n",
              "      <td>Yes</td>\n",
              "      <td>No</td>\n",
              "      <td>Yes</td>\n",
              "      <td>No</td>\n",
              "      <td>DSL</td>\n",
              "      <td>No</td>\n",
              "      <td>Yes</td>\n",
              "      <td>No</td>\n",
              "      <td>No</td>\n",
              "      <td>Yes</td>\n",
              "      <td>Yes</td>\n",
              "      <td>Month-to-month</td>\n",
              "      <td>Yes</td>\n",
              "      <td>Mailed_check</td>\n",
              "    </tr>\n",
              "    <tr>\n",
              "      <th>1</th>\n",
              "      <td>Los_Angeles</td>\n",
              "      <td>Female</td>\n",
              "      <td>No</td>\n",
              "      <td>No</td>\n",
              "      <td>No</td>\n",
              "      <td>Yes</td>\n",
              "      <td>Yes</td>\n",
              "      <td>Fiber_optic</td>\n",
              "      <td>No</td>\n",
              "      <td>No</td>\n",
              "      <td>No</td>\n",
              "      <td>No</td>\n",
              "      <td>No</td>\n",
              "      <td>No</td>\n",
              "      <td>Month-to-month</td>\n",
              "      <td>Yes</td>\n",
              "      <td>Electronic_check</td>\n",
              "    </tr>\n",
              "  </tbody>\n",
              "</table>\n",
              "</div>"
            ],
            "text/plain": [
              "                    City  Gender  ... Paperless_Billing    Payment_Method\n",
              "Churn_Value                       ...                                    \n",
              "0            Los_Angeles    Male  ...               Yes      Mailed_check\n",
              "1            Los_Angeles  Female  ...               Yes  Electronic_check\n",
              "\n",
              "[2 rows x 17 columns]"
            ]
          },
          "metadata": {
            "tags": []
          },
          "execution_count": 23
        }
      ]
    },
    {
      "cell_type": "markdown",
      "metadata": {
        "id": "w-HsyHSu-QES"
      },
      "source": [
        "Now, we use the pd.get_dummies to do the one-hot-encoding for all categorical columns."
      ]
    },
    {
      "cell_type": "code",
      "metadata": {
        "colab": {
          "base_uri": "https://localhost:8080/",
          "height": 270
        },
        "id": "Y1JWGomM7RIr",
        "outputId": "f7242682-54f6-4f10-9bfc-5f1f29f69fd8"
      },
      "source": [
        "X_encoded=pd.get_dummies(X, columns=categorical_cols)\n",
        "X_encoded.head()"
      ],
      "execution_count": 24,
      "outputs": [
        {
          "output_type": "execute_result",
          "data": {
            "text/html": [
              "<div>\n",
              "<style scoped>\n",
              "    .dataframe tbody tr th:only-of-type {\n",
              "        vertical-align: middle;\n",
              "    }\n",
              "\n",
              "    .dataframe tbody tr th {\n",
              "        vertical-align: top;\n",
              "    }\n",
              "\n",
              "    .dataframe thead th {\n",
              "        text-align: right;\n",
              "    }\n",
              "</style>\n",
              "<table border=\"1\" class=\"dataframe\">\n",
              "  <thead>\n",
              "    <tr style=\"text-align: right;\">\n",
              "      <th></th>\n",
              "      <th>Zip_Code</th>\n",
              "      <th>Latitude</th>\n",
              "      <th>Longitude</th>\n",
              "      <th>Tenure_Months</th>\n",
              "      <th>Monthly_Charges</th>\n",
              "      <th>Total_Charges</th>\n",
              "      <th>City_Acampo</th>\n",
              "      <th>City_Acton</th>\n",
              "      <th>City_Adelanto</th>\n",
              "      <th>City_Adin</th>\n",
              "      <th>City_Agoura_Hills</th>\n",
              "      <th>City_Aguanga</th>\n",
              "      <th>City_Ahwahnee</th>\n",
              "      <th>City_Alameda</th>\n",
              "      <th>City_Alamo</th>\n",
              "      <th>City_Albany</th>\n",
              "      <th>City_Albion</th>\n",
              "      <th>City_Alderpoint</th>\n",
              "      <th>City_Alhambra</th>\n",
              "      <th>City_Aliso_Viejo</th>\n",
              "      <th>City_Alleghany</th>\n",
              "      <th>City_Alpaugh</th>\n",
              "      <th>City_Alpine</th>\n",
              "      <th>City_Alta</th>\n",
              "      <th>City_Altadena</th>\n",
              "      <th>City_Alturas</th>\n",
              "      <th>City_Alviso</th>\n",
              "      <th>City_Amador_City</th>\n",
              "      <th>City_Amboy</th>\n",
              "      <th>City_Anaheim</th>\n",
              "      <th>City_Anderson</th>\n",
              "      <th>City_Angels_Camp</th>\n",
              "      <th>City_Angelus_Oaks</th>\n",
              "      <th>City_Angwin</th>\n",
              "      <th>City_Annapolis</th>\n",
              "      <th>City_Antelope</th>\n",
              "      <th>City_Antioch</th>\n",
              "      <th>City_Anza</th>\n",
              "      <th>City_Apple_Valley</th>\n",
              "      <th>City_Applegate</th>\n",
              "      <th>...</th>\n",
              "      <th>Senior_Citizen_Yes</th>\n",
              "      <th>Partner_No</th>\n",
              "      <th>Partner_Yes</th>\n",
              "      <th>Dependents_No</th>\n",
              "      <th>Dependents_Yes</th>\n",
              "      <th>Phone_Service_No</th>\n",
              "      <th>Phone_Service_Yes</th>\n",
              "      <th>Multiple_Lines_No</th>\n",
              "      <th>Multiple_Lines_No_phone_service</th>\n",
              "      <th>Multiple_Lines_Yes</th>\n",
              "      <th>Internet_Service_DSL</th>\n",
              "      <th>Internet_Service_Fiber_optic</th>\n",
              "      <th>Internet_Service_No</th>\n",
              "      <th>Online_Security_No</th>\n",
              "      <th>Online_Security_No_internet_service</th>\n",
              "      <th>Online_Security_Yes</th>\n",
              "      <th>Online_Backup_No</th>\n",
              "      <th>Online_Backup_No_internet_service</th>\n",
              "      <th>Online_Backup_Yes</th>\n",
              "      <th>Device_Protection_No</th>\n",
              "      <th>Device_Protection_No_internet_service</th>\n",
              "      <th>Device_Protection_Yes</th>\n",
              "      <th>Tech_Support_No</th>\n",
              "      <th>Tech_Support_No_internet_service</th>\n",
              "      <th>Tech_Support_Yes</th>\n",
              "      <th>Streaming_TV_No</th>\n",
              "      <th>Streaming_TV_No_internet_service</th>\n",
              "      <th>Streaming_TV_Yes</th>\n",
              "      <th>Streaming_Movies_No</th>\n",
              "      <th>Streaming_Movies_No_internet_service</th>\n",
              "      <th>Streaming_Movies_Yes</th>\n",
              "      <th>Contract_Month-to-month</th>\n",
              "      <th>Contract_One_year</th>\n",
              "      <th>Contract_Two_year</th>\n",
              "      <th>Paperless_Billing_No</th>\n",
              "      <th>Paperless_Billing_Yes</th>\n",
              "      <th>Payment_Method_Bank_transfer_(automatic)</th>\n",
              "      <th>Payment_Method_Credit_card_(automatic)</th>\n",
              "      <th>Payment_Method_Electronic_check</th>\n",
              "      <th>Payment_Method_Mailed_check</th>\n",
              "    </tr>\n",
              "  </thead>\n",
              "  <tbody>\n",
              "    <tr>\n",
              "      <th>0</th>\n",
              "      <td>90003</td>\n",
              "      <td>33.964131</td>\n",
              "      <td>-118.272783</td>\n",
              "      <td>2</td>\n",
              "      <td>53.85</td>\n",
              "      <td>108.15</td>\n",
              "      <td>0</td>\n",
              "      <td>0</td>\n",
              "      <td>0</td>\n",
              "      <td>0</td>\n",
              "      <td>0</td>\n",
              "      <td>0</td>\n",
              "      <td>0</td>\n",
              "      <td>0</td>\n",
              "      <td>0</td>\n",
              "      <td>0</td>\n",
              "      <td>0</td>\n",
              "      <td>0</td>\n",
              "      <td>0</td>\n",
              "      <td>0</td>\n",
              "      <td>0</td>\n",
              "      <td>0</td>\n",
              "      <td>0</td>\n",
              "      <td>0</td>\n",
              "      <td>0</td>\n",
              "      <td>0</td>\n",
              "      <td>0</td>\n",
              "      <td>0</td>\n",
              "      <td>0</td>\n",
              "      <td>0</td>\n",
              "      <td>0</td>\n",
              "      <td>0</td>\n",
              "      <td>0</td>\n",
              "      <td>0</td>\n",
              "      <td>0</td>\n",
              "      <td>0</td>\n",
              "      <td>0</td>\n",
              "      <td>0</td>\n",
              "      <td>0</td>\n",
              "      <td>0</td>\n",
              "      <td>...</td>\n",
              "      <td>0</td>\n",
              "      <td>1</td>\n",
              "      <td>0</td>\n",
              "      <td>1</td>\n",
              "      <td>0</td>\n",
              "      <td>0</td>\n",
              "      <td>1</td>\n",
              "      <td>1</td>\n",
              "      <td>0</td>\n",
              "      <td>0</td>\n",
              "      <td>1</td>\n",
              "      <td>0</td>\n",
              "      <td>0</td>\n",
              "      <td>0</td>\n",
              "      <td>0</td>\n",
              "      <td>1</td>\n",
              "      <td>0</td>\n",
              "      <td>0</td>\n",
              "      <td>1</td>\n",
              "      <td>1</td>\n",
              "      <td>0</td>\n",
              "      <td>0</td>\n",
              "      <td>1</td>\n",
              "      <td>0</td>\n",
              "      <td>0</td>\n",
              "      <td>1</td>\n",
              "      <td>0</td>\n",
              "      <td>0</td>\n",
              "      <td>1</td>\n",
              "      <td>0</td>\n",
              "      <td>0</td>\n",
              "      <td>1</td>\n",
              "      <td>0</td>\n",
              "      <td>0</td>\n",
              "      <td>0</td>\n",
              "      <td>1</td>\n",
              "      <td>0</td>\n",
              "      <td>0</td>\n",
              "      <td>0</td>\n",
              "      <td>1</td>\n",
              "    </tr>\n",
              "    <tr>\n",
              "      <th>1</th>\n",
              "      <td>90005</td>\n",
              "      <td>34.059281</td>\n",
              "      <td>-118.307420</td>\n",
              "      <td>2</td>\n",
              "      <td>70.70</td>\n",
              "      <td>151.65</td>\n",
              "      <td>0</td>\n",
              "      <td>0</td>\n",
              "      <td>0</td>\n",
              "      <td>0</td>\n",
              "      <td>0</td>\n",
              "      <td>0</td>\n",
              "      <td>0</td>\n",
              "      <td>0</td>\n",
              "      <td>0</td>\n",
              "      <td>0</td>\n",
              "      <td>0</td>\n",
              "      <td>0</td>\n",
              "      <td>0</td>\n",
              "      <td>0</td>\n",
              "      <td>0</td>\n",
              "      <td>0</td>\n",
              "      <td>0</td>\n",
              "      <td>0</td>\n",
              "      <td>0</td>\n",
              "      <td>0</td>\n",
              "      <td>0</td>\n",
              "      <td>0</td>\n",
              "      <td>0</td>\n",
              "      <td>0</td>\n",
              "      <td>0</td>\n",
              "      <td>0</td>\n",
              "      <td>0</td>\n",
              "      <td>0</td>\n",
              "      <td>0</td>\n",
              "      <td>0</td>\n",
              "      <td>0</td>\n",
              "      <td>0</td>\n",
              "      <td>0</td>\n",
              "      <td>0</td>\n",
              "      <td>...</td>\n",
              "      <td>0</td>\n",
              "      <td>1</td>\n",
              "      <td>0</td>\n",
              "      <td>0</td>\n",
              "      <td>1</td>\n",
              "      <td>0</td>\n",
              "      <td>1</td>\n",
              "      <td>1</td>\n",
              "      <td>0</td>\n",
              "      <td>0</td>\n",
              "      <td>0</td>\n",
              "      <td>1</td>\n",
              "      <td>0</td>\n",
              "      <td>1</td>\n",
              "      <td>0</td>\n",
              "      <td>0</td>\n",
              "      <td>1</td>\n",
              "      <td>0</td>\n",
              "      <td>0</td>\n",
              "      <td>1</td>\n",
              "      <td>0</td>\n",
              "      <td>0</td>\n",
              "      <td>1</td>\n",
              "      <td>0</td>\n",
              "      <td>0</td>\n",
              "      <td>1</td>\n",
              "      <td>0</td>\n",
              "      <td>0</td>\n",
              "      <td>1</td>\n",
              "      <td>0</td>\n",
              "      <td>0</td>\n",
              "      <td>1</td>\n",
              "      <td>0</td>\n",
              "      <td>0</td>\n",
              "      <td>0</td>\n",
              "      <td>1</td>\n",
              "      <td>0</td>\n",
              "      <td>0</td>\n",
              "      <td>1</td>\n",
              "      <td>0</td>\n",
              "    </tr>\n",
              "    <tr>\n",
              "      <th>2</th>\n",
              "      <td>90006</td>\n",
              "      <td>34.048013</td>\n",
              "      <td>-118.293953</td>\n",
              "      <td>8</td>\n",
              "      <td>99.65</td>\n",
              "      <td>820.50</td>\n",
              "      <td>0</td>\n",
              "      <td>0</td>\n",
              "      <td>0</td>\n",
              "      <td>0</td>\n",
              "      <td>0</td>\n",
              "      <td>0</td>\n",
              "      <td>0</td>\n",
              "      <td>0</td>\n",
              "      <td>0</td>\n",
              "      <td>0</td>\n",
              "      <td>0</td>\n",
              "      <td>0</td>\n",
              "      <td>0</td>\n",
              "      <td>0</td>\n",
              "      <td>0</td>\n",
              "      <td>0</td>\n",
              "      <td>0</td>\n",
              "      <td>0</td>\n",
              "      <td>0</td>\n",
              "      <td>0</td>\n",
              "      <td>0</td>\n",
              "      <td>0</td>\n",
              "      <td>0</td>\n",
              "      <td>0</td>\n",
              "      <td>0</td>\n",
              "      <td>0</td>\n",
              "      <td>0</td>\n",
              "      <td>0</td>\n",
              "      <td>0</td>\n",
              "      <td>0</td>\n",
              "      <td>0</td>\n",
              "      <td>0</td>\n",
              "      <td>0</td>\n",
              "      <td>0</td>\n",
              "      <td>...</td>\n",
              "      <td>0</td>\n",
              "      <td>1</td>\n",
              "      <td>0</td>\n",
              "      <td>0</td>\n",
              "      <td>1</td>\n",
              "      <td>0</td>\n",
              "      <td>1</td>\n",
              "      <td>0</td>\n",
              "      <td>0</td>\n",
              "      <td>1</td>\n",
              "      <td>0</td>\n",
              "      <td>1</td>\n",
              "      <td>0</td>\n",
              "      <td>1</td>\n",
              "      <td>0</td>\n",
              "      <td>0</td>\n",
              "      <td>1</td>\n",
              "      <td>0</td>\n",
              "      <td>0</td>\n",
              "      <td>0</td>\n",
              "      <td>0</td>\n",
              "      <td>1</td>\n",
              "      <td>1</td>\n",
              "      <td>0</td>\n",
              "      <td>0</td>\n",
              "      <td>0</td>\n",
              "      <td>0</td>\n",
              "      <td>1</td>\n",
              "      <td>0</td>\n",
              "      <td>0</td>\n",
              "      <td>1</td>\n",
              "      <td>1</td>\n",
              "      <td>0</td>\n",
              "      <td>0</td>\n",
              "      <td>0</td>\n",
              "      <td>1</td>\n",
              "      <td>0</td>\n",
              "      <td>0</td>\n",
              "      <td>1</td>\n",
              "      <td>0</td>\n",
              "    </tr>\n",
              "    <tr>\n",
              "      <th>3</th>\n",
              "      <td>90010</td>\n",
              "      <td>34.062125</td>\n",
              "      <td>-118.315709</td>\n",
              "      <td>28</td>\n",
              "      <td>104.80</td>\n",
              "      <td>3046.05</td>\n",
              "      <td>0</td>\n",
              "      <td>0</td>\n",
              "      <td>0</td>\n",
              "      <td>0</td>\n",
              "      <td>0</td>\n",
              "      <td>0</td>\n",
              "      <td>0</td>\n",
              "      <td>0</td>\n",
              "      <td>0</td>\n",
              "      <td>0</td>\n",
              "      <td>0</td>\n",
              "      <td>0</td>\n",
              "      <td>0</td>\n",
              "      <td>0</td>\n",
              "      <td>0</td>\n",
              "      <td>0</td>\n",
              "      <td>0</td>\n",
              "      <td>0</td>\n",
              "      <td>0</td>\n",
              "      <td>0</td>\n",
              "      <td>0</td>\n",
              "      <td>0</td>\n",
              "      <td>0</td>\n",
              "      <td>0</td>\n",
              "      <td>0</td>\n",
              "      <td>0</td>\n",
              "      <td>0</td>\n",
              "      <td>0</td>\n",
              "      <td>0</td>\n",
              "      <td>0</td>\n",
              "      <td>0</td>\n",
              "      <td>0</td>\n",
              "      <td>0</td>\n",
              "      <td>0</td>\n",
              "      <td>...</td>\n",
              "      <td>0</td>\n",
              "      <td>0</td>\n",
              "      <td>1</td>\n",
              "      <td>0</td>\n",
              "      <td>1</td>\n",
              "      <td>0</td>\n",
              "      <td>1</td>\n",
              "      <td>0</td>\n",
              "      <td>0</td>\n",
              "      <td>1</td>\n",
              "      <td>0</td>\n",
              "      <td>1</td>\n",
              "      <td>0</td>\n",
              "      <td>1</td>\n",
              "      <td>0</td>\n",
              "      <td>0</td>\n",
              "      <td>1</td>\n",
              "      <td>0</td>\n",
              "      <td>0</td>\n",
              "      <td>0</td>\n",
              "      <td>0</td>\n",
              "      <td>1</td>\n",
              "      <td>0</td>\n",
              "      <td>0</td>\n",
              "      <td>1</td>\n",
              "      <td>0</td>\n",
              "      <td>0</td>\n",
              "      <td>1</td>\n",
              "      <td>0</td>\n",
              "      <td>0</td>\n",
              "      <td>1</td>\n",
              "      <td>1</td>\n",
              "      <td>0</td>\n",
              "      <td>0</td>\n",
              "      <td>0</td>\n",
              "      <td>1</td>\n",
              "      <td>0</td>\n",
              "      <td>0</td>\n",
              "      <td>1</td>\n",
              "      <td>0</td>\n",
              "    </tr>\n",
              "    <tr>\n",
              "      <th>4</th>\n",
              "      <td>90015</td>\n",
              "      <td>34.039224</td>\n",
              "      <td>-118.266293</td>\n",
              "      <td>49</td>\n",
              "      <td>103.70</td>\n",
              "      <td>5036.30</td>\n",
              "      <td>0</td>\n",
              "      <td>0</td>\n",
              "      <td>0</td>\n",
              "      <td>0</td>\n",
              "      <td>0</td>\n",
              "      <td>0</td>\n",
              "      <td>0</td>\n",
              "      <td>0</td>\n",
              "      <td>0</td>\n",
              "      <td>0</td>\n",
              "      <td>0</td>\n",
              "      <td>0</td>\n",
              "      <td>0</td>\n",
              "      <td>0</td>\n",
              "      <td>0</td>\n",
              "      <td>0</td>\n",
              "      <td>0</td>\n",
              "      <td>0</td>\n",
              "      <td>0</td>\n",
              "      <td>0</td>\n",
              "      <td>0</td>\n",
              "      <td>0</td>\n",
              "      <td>0</td>\n",
              "      <td>0</td>\n",
              "      <td>0</td>\n",
              "      <td>0</td>\n",
              "      <td>0</td>\n",
              "      <td>0</td>\n",
              "      <td>0</td>\n",
              "      <td>0</td>\n",
              "      <td>0</td>\n",
              "      <td>0</td>\n",
              "      <td>0</td>\n",
              "      <td>0</td>\n",
              "      <td>...</td>\n",
              "      <td>0</td>\n",
              "      <td>1</td>\n",
              "      <td>0</td>\n",
              "      <td>0</td>\n",
              "      <td>1</td>\n",
              "      <td>0</td>\n",
              "      <td>1</td>\n",
              "      <td>0</td>\n",
              "      <td>0</td>\n",
              "      <td>1</td>\n",
              "      <td>0</td>\n",
              "      <td>1</td>\n",
              "      <td>0</td>\n",
              "      <td>1</td>\n",
              "      <td>0</td>\n",
              "      <td>0</td>\n",
              "      <td>0</td>\n",
              "      <td>0</td>\n",
              "      <td>1</td>\n",
              "      <td>0</td>\n",
              "      <td>0</td>\n",
              "      <td>1</td>\n",
              "      <td>1</td>\n",
              "      <td>0</td>\n",
              "      <td>0</td>\n",
              "      <td>0</td>\n",
              "      <td>0</td>\n",
              "      <td>1</td>\n",
              "      <td>0</td>\n",
              "      <td>0</td>\n",
              "      <td>1</td>\n",
              "      <td>1</td>\n",
              "      <td>0</td>\n",
              "      <td>0</td>\n",
              "      <td>0</td>\n",
              "      <td>1</td>\n",
              "      <td>1</td>\n",
              "      <td>0</td>\n",
              "      <td>0</td>\n",
              "      <td>0</td>\n",
              "    </tr>\n",
              "  </tbody>\n",
              "</table>\n",
              "<p>5 rows × 1178 columns</p>\n",
              "</div>"
            ],
            "text/plain": [
              "   Zip_Code  ...  Payment_Method_Mailed_check\n",
              "0     90003  ...                            1\n",
              "1     90005  ...                            0\n",
              "2     90006  ...                            0\n",
              "3     90010  ...                            0\n",
              "4     90015  ...                            0\n",
              "\n",
              "[5 rows x 1178 columns]"
            ]
          },
          "metadata": {
            "tags": []
          },
          "execution_count": 24
        }
      ]
    },
    {
      "cell_type": "code",
      "metadata": {
        "colab": {
          "base_uri": "https://localhost:8080/"
        },
        "id": "qWeHKzSZ9pD4",
        "outputId": "9e0c2ae4-dbe7-4f03-a479-5a89bc4937c4"
      },
      "source": [
        "X_encoded.shape"
      ],
      "execution_count": 25,
      "outputs": [
        {
          "output_type": "execute_result",
          "data": {
            "text/plain": [
              "(7043, 1178)"
            ]
          },
          "metadata": {
            "tags": []
          },
          "execution_count": 25
        }
      ]
    },
    {
      "cell_type": "markdown",
      "metadata": {
        "id": "B0FVVVSU-Xd_"
      },
      "source": [
        "### 4. Build preliminary XGBoost Model\n",
        "####4.1 Divide the data into train/test subsets\n",
        "First, let's check the overall balance of the churn/no churn."
      ]
    },
    {
      "cell_type": "code",
      "metadata": {
        "colab": {
          "base_uri": "https://localhost:8080/"
        },
        "id": "IEUk4gq69tqr",
        "outputId": "d66c646d-0704-44e3-af15-186d8080e047"
      },
      "source": [
        "sum(y)/len(y)"
      ],
      "execution_count": 26,
      "outputs": [
        {
          "output_type": "execute_result",
          "data": {
            "text/plain": [
              "0.2653698707936959"
            ]
          },
          "metadata": {
            "tags": []
          },
          "execution_count": 26
        }
      ]
    },
    {
      "cell_type": "markdown",
      "metadata": {
        "id": "pu14s5SrBJQh"
      },
      "source": [
        "So, as expected, there are around 1/4 of the sample has churned. Therefore, this imbalance should be treated. Here, we specify \"stratify=y\" when calling train_test_split()."
      ]
    },
    {
      "cell_type": "code",
      "metadata": {
        "id": "5iDFPIvbBIE-"
      },
      "source": [
        "X_train, X_test, y_train, y_test = train_test_split(X_encoded, y, test_size=0.3, random_state=42, \n",
        "                                                    stratify=y)"
      ],
      "execution_count": 27,
      "outputs": []
    },
    {
      "cell_type": "markdown",
      "metadata": {
        "id": "jr93iaG_DvYC"
      },
      "source": [
        "Quick check to confirm that the stratified split works."
      ]
    },
    {
      "cell_type": "code",
      "metadata": {
        "colab": {
          "base_uri": "https://localhost:8080/"
        },
        "id": "jGWzR54TB0lk",
        "outputId": "d0aa4ecc-1c24-4324-dd79-020928446e02"
      },
      "source": [
        "print(sum(y_train)/len(y_train), sum(y_test)/len(y_test))"
      ],
      "execution_count": 28,
      "outputs": [
        {
          "output_type": "stream",
          "text": [
            "0.2653144016227181 0.26549929010885\n"
          ],
          "name": "stdout"
        }
      ]
    },
    {
      "cell_type": "code",
      "metadata": {
        "colab": {
          "base_uri": "https://localhost:8080/"
        },
        "id": "Hb5BS7YTB7_1",
        "outputId": "b0c25b3e-88ae-4858-a1ad-c69f7e0b21f0"
      },
      "source": [
        "len(y_train)/len(y)"
      ],
      "execution_count": 29,
      "outputs": [
        {
          "output_type": "execute_result",
          "data": {
            "text/plain": [
              "0.6999858015050404"
            ]
          },
          "metadata": {
            "tags": []
          },
          "execution_count": 29
        }
      ]
    },
    {
      "cell_type": "markdown",
      "metadata": {
        "id": "D40AMSbCFKFh"
      },
      "source": [
        "#### 4.2 Build XGBoost Model"
      ]
    },
    {
      "cell_type": "code",
      "metadata": {
        "colab": {
          "base_uri": "https://localhost:8080/"
        },
        "id": "vJZueSFTCMov",
        "outputId": "dd194699-fa9d-4182-da94-710b8716b819"
      },
      "source": [
        "clf_xgb=xgb.XGBClassifier(objective='binary:logistic',seed=42)\n",
        "clf_xgb.fit(X_train,y_train,verbose=True,early_stopping_rounds=10,\n",
        "            eval_metric='aucpr',eval_set=[(X_test,y_test)])"
      ],
      "execution_count": 30,
      "outputs": [
        {
          "output_type": "stream",
          "text": [
            "[0]\tvalidation_0-aucpr:0.583651\n",
            "Will train until validation_0-aucpr hasn't improved in 10 rounds.\n",
            "[1]\tvalidation_0-aucpr:0.59387\n",
            "[2]\tvalidation_0-aucpr:0.606663\n",
            "[3]\tvalidation_0-aucpr:0.607181\n",
            "[4]\tvalidation_0-aucpr:0.6082\n",
            "[5]\tvalidation_0-aucpr:0.614727\n",
            "[6]\tvalidation_0-aucpr:0.623911\n",
            "[7]\tvalidation_0-aucpr:0.625478\n",
            "[8]\tvalidation_0-aucpr:0.625095\n",
            "[9]\tvalidation_0-aucpr:0.647748\n",
            "[10]\tvalidation_0-aucpr:0.644691\n",
            "[11]\tvalidation_0-aucpr:0.650267\n",
            "[12]\tvalidation_0-aucpr:0.649664\n",
            "[13]\tvalidation_0-aucpr:0.646857\n",
            "[14]\tvalidation_0-aucpr:0.655209\n",
            "[15]\tvalidation_0-aucpr:0.65526\n",
            "[16]\tvalidation_0-aucpr:0.656589\n",
            "[17]\tvalidation_0-aucpr:0.654829\n",
            "[18]\tvalidation_0-aucpr:0.657154\n",
            "[19]\tvalidation_0-aucpr:0.657445\n",
            "[20]\tvalidation_0-aucpr:0.659189\n",
            "[21]\tvalidation_0-aucpr:0.655936\n",
            "[22]\tvalidation_0-aucpr:0.65664\n",
            "[23]\tvalidation_0-aucpr:0.658813\n",
            "[24]\tvalidation_0-aucpr:0.660416\n",
            "[25]\tvalidation_0-aucpr:0.658686\n",
            "[26]\tvalidation_0-aucpr:0.657353\n",
            "[27]\tvalidation_0-aucpr:0.657655\n",
            "[28]\tvalidation_0-aucpr:0.656565\n",
            "[29]\tvalidation_0-aucpr:0.657096\n",
            "[30]\tvalidation_0-aucpr:0.658665\n",
            "[31]\tvalidation_0-aucpr:0.658747\n",
            "[32]\tvalidation_0-aucpr:0.660383\n",
            "[33]\tvalidation_0-aucpr:0.661127\n",
            "[34]\tvalidation_0-aucpr:0.659424\n",
            "[35]\tvalidation_0-aucpr:0.661615\n",
            "[36]\tvalidation_0-aucpr:0.662933\n",
            "[37]\tvalidation_0-aucpr:0.66335\n",
            "[38]\tvalidation_0-aucpr:0.661664\n",
            "[39]\tvalidation_0-aucpr:0.662549\n",
            "[40]\tvalidation_0-aucpr:0.664187\n",
            "[41]\tvalidation_0-aucpr:0.663341\n",
            "[42]\tvalidation_0-aucpr:0.663095\n",
            "[43]\tvalidation_0-aucpr:0.664273\n",
            "[44]\tvalidation_0-aucpr:0.664813\n",
            "[45]\tvalidation_0-aucpr:0.665168\n",
            "[46]\tvalidation_0-aucpr:0.664907\n",
            "[47]\tvalidation_0-aucpr:0.665639\n",
            "[48]\tvalidation_0-aucpr:0.665874\n",
            "[49]\tvalidation_0-aucpr:0.665644\n",
            "[50]\tvalidation_0-aucpr:0.665799\n",
            "[51]\tvalidation_0-aucpr:0.665322\n",
            "[52]\tvalidation_0-aucpr:0.666555\n",
            "[53]\tvalidation_0-aucpr:0.66677\n",
            "[54]\tvalidation_0-aucpr:0.665829\n",
            "[55]\tvalidation_0-aucpr:0.665691\n",
            "[56]\tvalidation_0-aucpr:0.665299\n",
            "[57]\tvalidation_0-aucpr:0.665201\n",
            "[58]\tvalidation_0-aucpr:0.66609\n",
            "[59]\tvalidation_0-aucpr:0.666263\n",
            "[60]\tvalidation_0-aucpr:0.666037\n",
            "[61]\tvalidation_0-aucpr:0.666203\n",
            "[62]\tvalidation_0-aucpr:0.666604\n",
            "[63]\tvalidation_0-aucpr:0.66713\n",
            "[64]\tvalidation_0-aucpr:0.666553\n",
            "[65]\tvalidation_0-aucpr:0.666464\n",
            "[66]\tvalidation_0-aucpr:0.666831\n",
            "[67]\tvalidation_0-aucpr:0.666901\n",
            "[68]\tvalidation_0-aucpr:0.667154\n",
            "[69]\tvalidation_0-aucpr:0.666498\n",
            "[70]\tvalidation_0-aucpr:0.666568\n",
            "[71]\tvalidation_0-aucpr:0.666196\n",
            "[72]\tvalidation_0-aucpr:0.666132\n",
            "[73]\tvalidation_0-aucpr:0.666313\n",
            "[74]\tvalidation_0-aucpr:0.664946\n",
            "[75]\tvalidation_0-aucpr:0.664918\n",
            "[76]\tvalidation_0-aucpr:0.665926\n",
            "[77]\tvalidation_0-aucpr:0.665978\n",
            "[78]\tvalidation_0-aucpr:0.666526\n",
            "Stopping. Best iteration:\n",
            "[68]\tvalidation_0-aucpr:0.667154\n",
            "\n"
          ],
          "name": "stdout"
        },
        {
          "output_type": "execute_result",
          "data": {
            "text/plain": [
              "XGBClassifier(base_score=0.5, booster='gbtree', colsample_bylevel=1,\n",
              "              colsample_bynode=1, colsample_bytree=1, gamma=0,\n",
              "              learning_rate=0.1, max_delta_step=0, max_depth=3,\n",
              "              min_child_weight=1, missing=None, n_estimators=100, n_jobs=1,\n",
              "              nthread=None, objective='binary:logistic', random_state=0,\n",
              "              reg_alpha=0, reg_lambda=1, scale_pos_weight=1, seed=42,\n",
              "              silent=None, subsample=1, verbosity=1)"
            ]
          },
          "metadata": {
            "tags": []
          },
          "execution_count": 30
        }
      ]
    },
    {
      "cell_type": "markdown",
      "metadata": {
        "id": "0qbiDPTrHB4-"
      },
      "source": [
        "We can see from the log that when one iteration provides poorer validation performance than the predecessor, the XGBoost will try 10 more rounds to see if it can build a better model. If not, the previous best performer will be the choice of final model. This is how early stopping is working."
      ]
    },
    {
      "cell_type": "markdown",
      "metadata": {
        "id": "uF5sU-gnIfxV"
      },
      "source": [
        "Next, we can take a look at the XGB model on its performance on test data."
      ]
    },
    {
      "cell_type": "code",
      "metadata": {
        "colab": {
          "base_uri": "https://localhost:8080/",
          "height": 296
        },
        "id": "sA9KPCYPGr5i",
        "outputId": "ddf32c1d-2aac-40e5-e820-7c5e84cffe3f"
      },
      "source": [
        "plot_confusion_matrix(clf_xgb,X_test,y_test,values_format='d',display_labels=[\"Stayed\",\"Left\"])"
      ],
      "execution_count": 31,
      "outputs": [
        {
          "output_type": "execute_result",
          "data": {
            "text/plain": [
              "<sklearn.metrics._plot.confusion_matrix.ConfusionMatrixDisplay at 0x7f0d5940ec88>"
            ]
          },
          "metadata": {
            "tags": []
          },
          "execution_count": 31
        },
        {
          "output_type": "display_data",
          "data": {
            "image/png": "[encoded data removed]",
            "text/plain": [
              "<Figure size 432x288 with 2 Axes>"
            ]
          },
          "metadata": {
            "tags": [],
            "needs_background": "light"
          }
        }
      ]
    },
    {
      "cell_type": "markdown",
      "metadata": {
        "id": "1TAtbolFJP04"
      },
      "source": [
        "We can see from the confusion matrix that, while the model did a decent job predicting the \"Stayed\" customers, it did pretty poor predicting the \"Left\" customers (barely better than random guessing, i.e. 50%). Next, we will try to optimize XGBoost model."
      ]
    },
    {
      "cell_type": "markdown",
      "metadata": {
        "id": "QNeBWeQzLaAK"
      },
      "source": [
        "#### 4.3 Optimize XGBoost model\n",
        "Part of the reasons why the previous model did not do well in predicting \"Left\" customers could be due to the imbalance. The \"Left\" customers has a small sample size and therefore is proportionally \"under-emphasized\" by the model. So we will see if we can use parameter **scale_pos_weight** to alleviate this problem. And we can use GridSearch and cross validation to get the optimal value for the hyperparameters."
      ]
    },
    {
      "cell_type": "code",
      "metadata": {
        "colab": {
          "base_uri": "https://localhost:8080/",
          "height": 341
        },
        "id": "FtQbwYEsI_1w",
        "outputId": "79ec94bd-0b9b-4312-feea-86530ed35923"
      },
      "source": [
        "# Round 1\n",
        "param_grid={\n",
        "    'max_depth':[3,4,5],\n",
        "    'learning_rate':[0.01,0.05,0.1],\n",
        "    'gamma':[0,0.25,1], #min loss required to further split a node\n",
        "    'reg_lambda':[0,1,10],\n",
        "    'scale_pos_weight':[1,3,5]\n",
        "}\n",
        "\n",
        "optimal_params=GridSearchCV(estimator=xgb.XGBClassifier(objective='binary:logistic',\n",
        "                                                        seed=42,\n",
        "                                                        subsample=0.9, #use 90% of sample for tree building\n",
        "                                                        colsample_bytree=0.5), #use half of the features for tree building\n",
        "                            param_grid=param_grid,\n",
        "                            scoring='roc_auc',\n",
        "                            verbose=0,\n",
        "                            n_jobs=10,\n",
        "                            cv=3)\n",
        "\n",
        "optimal_params.fit(X_train,y_train,verbose=False,early_stopping_rounds=10,\n",
        "            eval_metric='auc',eval_set=[(X_test,y_test)])"
      ],
      "execution_count": 32,
      "outputs": [
        {
          "output_type": "error",
          "ename": "KeyboardInterrupt",
          "evalue": "ignored",
          "traceback": [
            "\u001b[0;31m---------------------------------------------------------------------------\u001b[0m",
            "\u001b[0;31mKeyboardInterrupt\u001b[0m                         Traceback (most recent call last)",
            "\u001b[0;32m<ipython-input-32-143d57c66f09>\u001b[0m in \u001b[0;36m<module>\u001b[0;34m()\u001b[0m\n\u001b[1;32m     19\u001b[0m \u001b[0;34m\u001b[0m\u001b[0m\n\u001b[1;32m     20\u001b[0m optimal_params.fit(X_train,y_train,verbose=False,early_stopping_rounds=10,\n\u001b[0;32m---> 21\u001b[0;31m             eval_metric='auc',eval_set=[(X_test,y_test)])\n\u001b[0m",
            "\u001b[0;32m/usr/local/lib/python3.6/dist-packages/sklearn/model_selection/_search.py\u001b[0m in \u001b[0;36mfit\u001b[0;34m(self, X, y, groups, **fit_params)\u001b[0m\n\u001b[1;32m    708\u001b[0m                 \u001b[0;32mreturn\u001b[0m \u001b[0mresults\u001b[0m\u001b[0;34m\u001b[0m\u001b[0;34m\u001b[0m\u001b[0m\n\u001b[1;32m    709\u001b[0m \u001b[0;34m\u001b[0m\u001b[0m\n\u001b[0;32m--> 710\u001b[0;31m             \u001b[0mself\u001b[0m\u001b[0;34m.\u001b[0m\u001b[0m_run_search\u001b[0m\u001b[0;34m(\u001b[0m\u001b[0mevaluate_candidates\u001b[0m\u001b[0;34m)\u001b[0m\u001b[0;34m\u001b[0m\u001b[0;34m\u001b[0m\u001b[0m\n\u001b[0m\u001b[1;32m    711\u001b[0m \u001b[0;34m\u001b[0m\u001b[0m\n\u001b[1;32m    712\u001b[0m         \u001b[0;31m# For multi-metric evaluation, store the best_index_, best_params_ and\u001b[0m\u001b[0;34m\u001b[0m\u001b[0;34m\u001b[0m\u001b[0;34m\u001b[0m\u001b[0m\n",
            "\u001b[0;32m/usr/local/lib/python3.6/dist-packages/sklearn/model_selection/_search.py\u001b[0m in \u001b[0;36m_run_search\u001b[0;34m(self, evaluate_candidates)\u001b[0m\n\u001b[1;32m   1149\u001b[0m     \u001b[0;32mdef\u001b[0m \u001b[0m_run_search\u001b[0m\u001b[0;34m(\u001b[0m\u001b[0mself\u001b[0m\u001b[0;34m,\u001b[0m \u001b[0mevaluate_candidates\u001b[0m\u001b[0;34m)\u001b[0m\u001b[0;34m:\u001b[0m\u001b[0;34m\u001b[0m\u001b[0;34m\u001b[0m\u001b[0m\n\u001b[1;32m   1150\u001b[0m         \u001b[0;34m\"\"\"Search all candidates in param_grid\"\"\"\u001b[0m\u001b[0;34m\u001b[0m\u001b[0;34m\u001b[0m\u001b[0m\n\u001b[0;32m-> 1151\u001b[0;31m         \u001b[0mevaluate_candidates\u001b[0m\u001b[0;34m(\u001b[0m\u001b[0mParameterGrid\u001b[0m\u001b[0;34m(\u001b[0m\u001b[0mself\u001b[0m\u001b[0;34m.\u001b[0m\u001b[0mparam_grid\u001b[0m\u001b[0;34m)\u001b[0m\u001b[0;34m)\u001b[0m\u001b[0;34m\u001b[0m\u001b[0;34m\u001b[0m\u001b[0m\n\u001b[0m\u001b[1;32m   1152\u001b[0m \u001b[0;34m\u001b[0m\u001b[0m\n\u001b[1;32m   1153\u001b[0m \u001b[0;34m\u001b[0m\u001b[0m\n",
            "\u001b[0;32m/usr/local/lib/python3.6/dist-packages/sklearn/model_selection/_search.py\u001b[0m in \u001b[0;36mevaluate_candidates\u001b[0;34m(candidate_params)\u001b[0m\n\u001b[1;32m    687\u001b[0m                                \u001b[0;32mfor\u001b[0m \u001b[0mparameters\u001b[0m\u001b[0;34m,\u001b[0m \u001b[0;34m(\u001b[0m\u001b[0mtrain\u001b[0m\u001b[0;34m,\u001b[0m \u001b[0mtest\u001b[0m\u001b[0;34m)\u001b[0m\u001b[0;34m\u001b[0m\u001b[0;34m\u001b[0m\u001b[0m\n\u001b[1;32m    688\u001b[0m                                in product(candidate_params,\n\u001b[0;32m--> 689\u001b[0;31m                                           cv.split(X, y, groups)))\n\u001b[0m\u001b[1;32m    690\u001b[0m \u001b[0;34m\u001b[0m\u001b[0m\n\u001b[1;32m    691\u001b[0m                 \u001b[0;32mif\u001b[0m \u001b[0mlen\u001b[0m\u001b[0;34m(\u001b[0m\u001b[0mout\u001b[0m\u001b[0;34m)\u001b[0m \u001b[0;34m<\u001b[0m \u001b[0;36m1\u001b[0m\u001b[0;34m:\u001b[0m\u001b[0;34m\u001b[0m\u001b[0;34m\u001b[0m\u001b[0m\n",
            "\u001b[0;32m/usr/local/lib/python3.6/dist-packages/joblib/parallel.py\u001b[0m in \u001b[0;36m__call__\u001b[0;34m(self, iterable)\u001b[0m\n\u001b[1;32m   1059\u001b[0m \u001b[0;34m\u001b[0m\u001b[0m\n\u001b[1;32m   1060\u001b[0m             \u001b[0;32mwith\u001b[0m \u001b[0mself\u001b[0m\u001b[0;34m.\u001b[0m\u001b[0m_backend\u001b[0m\u001b[0;34m.\u001b[0m\u001b[0mretrieval_context\u001b[0m\u001b[0;34m(\u001b[0m\u001b[0;34m)\u001b[0m\u001b[0;34m:\u001b[0m\u001b[0;34m\u001b[0m\u001b[0;34m\u001b[0m\u001b[0m\n\u001b[0;32m-> 1061\u001b[0;31m                 \u001b[0mself\u001b[0m\u001b[0;34m.\u001b[0m\u001b[0mretrieve\u001b[0m\u001b[0;34m(\u001b[0m\u001b[0;34m)\u001b[0m\u001b[0;34m\u001b[0m\u001b[0;34m\u001b[0m\u001b[0m\n\u001b[0m\u001b[1;32m   1062\u001b[0m             \u001b[0;31m# Make sure that we get a last message telling us we are done\u001b[0m\u001b[0;34m\u001b[0m\u001b[0;34m\u001b[0m\u001b[0;34m\u001b[0m\u001b[0m\n\u001b[1;32m   1063\u001b[0m             \u001b[0melapsed_time\u001b[0m \u001b[0;34m=\u001b[0m \u001b[0mtime\u001b[0m\u001b[0;34m.\u001b[0m\u001b[0mtime\u001b[0m\u001b[0;34m(\u001b[0m\u001b[0;34m)\u001b[0m \u001b[0;34m-\u001b[0m \u001b[0mself\u001b[0m\u001b[0;34m.\u001b[0m\u001b[0m_start_time\u001b[0m\u001b[0;34m\u001b[0m\u001b[0;34m\u001b[0m\u001b[0m\n",
            "\u001b[0;32m/usr/local/lib/python3.6/dist-packages/joblib/parallel.py\u001b[0m in \u001b[0;36mretrieve\u001b[0;34m(self)\u001b[0m\n\u001b[1;32m    938\u001b[0m             \u001b[0;32mtry\u001b[0m\u001b[0;34m:\u001b[0m\u001b[0;34m\u001b[0m\u001b[0;34m\u001b[0m\u001b[0m\n\u001b[1;32m    939\u001b[0m                 \u001b[0;32mif\u001b[0m \u001b[0mgetattr\u001b[0m\u001b[0;34m(\u001b[0m\u001b[0mself\u001b[0m\u001b[0;34m.\u001b[0m\u001b[0m_backend\u001b[0m\u001b[0;34m,\u001b[0m \u001b[0;34m'supports_timeout'\u001b[0m\u001b[0;34m,\u001b[0m \u001b[0;32mFalse\u001b[0m\u001b[0;34m)\u001b[0m\u001b[0;34m:\u001b[0m\u001b[0;34m\u001b[0m\u001b[0;34m\u001b[0m\u001b[0m\n\u001b[0;32m--> 940\u001b[0;31m                     \u001b[0mself\u001b[0m\u001b[0;34m.\u001b[0m\u001b[0m_output\u001b[0m\u001b[0;34m.\u001b[0m\u001b[0mextend\u001b[0m\u001b[0;34m(\u001b[0m\u001b[0mjob\u001b[0m\u001b[0;34m.\u001b[0m\u001b[0mget\u001b[0m\u001b[0;34m(\u001b[0m\u001b[0mtimeout\u001b[0m\u001b[0;34m=\u001b[0m\u001b[0mself\u001b[0m\u001b[0;34m.\u001b[0m\u001b[0mtimeout\u001b[0m\u001b[0;34m)\u001b[0m\u001b[0;34m)\u001b[0m\u001b[0;34m\u001b[0m\u001b[0;34m\u001b[0m\u001b[0m\n\u001b[0m\u001b[1;32m    941\u001b[0m                 \u001b[0;32melse\u001b[0m\u001b[0;34m:\u001b[0m\u001b[0;34m\u001b[0m\u001b[0;34m\u001b[0m\u001b[0m\n\u001b[1;32m    942\u001b[0m                     \u001b[0mself\u001b[0m\u001b[0;34m.\u001b[0m\u001b[0m_output\u001b[0m\u001b[0;34m.\u001b[0m\u001b[0mextend\u001b[0m\u001b[0;34m(\u001b[0m\u001b[0mjob\u001b[0m\u001b[0;34m.\u001b[0m\u001b[0mget\u001b[0m\u001b[0;34m(\u001b[0m\u001b[0;34m)\u001b[0m\u001b[0;34m)\u001b[0m\u001b[0;34m\u001b[0m\u001b[0;34m\u001b[0m\u001b[0m\n",
            "\u001b[0;32m/usr/local/lib/python3.6/dist-packages/joblib/_parallel_backends.py\u001b[0m in \u001b[0;36mwrap_future_result\u001b[0;34m(future, timeout)\u001b[0m\n\u001b[1;32m    540\u001b[0m         AsyncResults.get from multiprocessing.\"\"\"\n\u001b[1;32m    541\u001b[0m         \u001b[0;32mtry\u001b[0m\u001b[0;34m:\u001b[0m\u001b[0;34m\u001b[0m\u001b[0;34m\u001b[0m\u001b[0m\n\u001b[0;32m--> 542\u001b[0;31m             \u001b[0;32mreturn\u001b[0m \u001b[0mfuture\u001b[0m\u001b[0;34m.\u001b[0m\u001b[0mresult\u001b[0m\u001b[0;34m(\u001b[0m\u001b[0mtimeout\u001b[0m\u001b[0;34m=\u001b[0m\u001b[0mtimeout\u001b[0m\u001b[0;34m)\u001b[0m\u001b[0;34m\u001b[0m\u001b[0;34m\u001b[0m\u001b[0m\n\u001b[0m\u001b[1;32m    543\u001b[0m         \u001b[0;32mexcept\u001b[0m \u001b[0mCfTimeoutError\u001b[0m \u001b[0;32mas\u001b[0m \u001b[0me\u001b[0m\u001b[0;34m:\u001b[0m\u001b[0;34m\u001b[0m\u001b[0;34m\u001b[0m\u001b[0m\n\u001b[1;32m    544\u001b[0m             \u001b[0;32mraise\u001b[0m \u001b[0mTimeoutError\u001b[0m \u001b[0;32mfrom\u001b[0m \u001b[0me\u001b[0m\u001b[0;34m\u001b[0m\u001b[0;34m\u001b[0m\u001b[0m\n",
            "\u001b[0;32m/usr/lib/python3.6/concurrent/futures/_base.py\u001b[0m in \u001b[0;36mresult\u001b[0;34m(self, timeout)\u001b[0m\n\u001b[1;32m    425\u001b[0m                 \u001b[0;32mreturn\u001b[0m \u001b[0mself\u001b[0m\u001b[0;34m.\u001b[0m\u001b[0m__get_result\u001b[0m\u001b[0;34m(\u001b[0m\u001b[0;34m)\u001b[0m\u001b[0;34m\u001b[0m\u001b[0;34m\u001b[0m\u001b[0m\n\u001b[1;32m    426\u001b[0m \u001b[0;34m\u001b[0m\u001b[0m\n\u001b[0;32m--> 427\u001b[0;31m             \u001b[0mself\u001b[0m\u001b[0;34m.\u001b[0m\u001b[0m_condition\u001b[0m\u001b[0;34m.\u001b[0m\u001b[0mwait\u001b[0m\u001b[0;34m(\u001b[0m\u001b[0mtimeout\u001b[0m\u001b[0;34m)\u001b[0m\u001b[0;34m\u001b[0m\u001b[0;34m\u001b[0m\u001b[0m\n\u001b[0m\u001b[1;32m    428\u001b[0m \u001b[0;34m\u001b[0m\u001b[0m\n\u001b[1;32m    429\u001b[0m             \u001b[0;32mif\u001b[0m \u001b[0mself\u001b[0m\u001b[0;34m.\u001b[0m\u001b[0m_state\u001b[0m \u001b[0;32min\u001b[0m \u001b[0;34m[\u001b[0m\u001b[0mCANCELLED\u001b[0m\u001b[0;34m,\u001b[0m \u001b[0mCANCELLED_AND_NOTIFIED\u001b[0m\u001b[0;34m]\u001b[0m\u001b[0;34m:\u001b[0m\u001b[0;34m\u001b[0m\u001b[0;34m\u001b[0m\u001b[0m\n",
            "\u001b[0;32m/usr/lib/python3.6/threading.py\u001b[0m in \u001b[0;36mwait\u001b[0;34m(self, timeout)\u001b[0m\n\u001b[1;32m    293\u001b[0m         \u001b[0;32mtry\u001b[0m\u001b[0;34m:\u001b[0m    \u001b[0;31m# restore state no matter what (e.g., KeyboardInterrupt)\u001b[0m\u001b[0;34m\u001b[0m\u001b[0;34m\u001b[0m\u001b[0m\n\u001b[1;32m    294\u001b[0m             \u001b[0;32mif\u001b[0m \u001b[0mtimeout\u001b[0m \u001b[0;32mis\u001b[0m \u001b[0;32mNone\u001b[0m\u001b[0;34m:\u001b[0m\u001b[0;34m\u001b[0m\u001b[0;34m\u001b[0m\u001b[0m\n\u001b[0;32m--> 295\u001b[0;31m                 \u001b[0mwaiter\u001b[0m\u001b[0;34m.\u001b[0m\u001b[0macquire\u001b[0m\u001b[0;34m(\u001b[0m\u001b[0;34m)\u001b[0m\u001b[0;34m\u001b[0m\u001b[0;34m\u001b[0m\u001b[0m\n\u001b[0m\u001b[1;32m    296\u001b[0m                 \u001b[0mgotit\u001b[0m \u001b[0;34m=\u001b[0m \u001b[0;32mTrue\u001b[0m\u001b[0;34m\u001b[0m\u001b[0;34m\u001b[0m\u001b[0m\n\u001b[1;32m    297\u001b[0m             \u001b[0;32melse\u001b[0m\u001b[0;34m:\u001b[0m\u001b[0;34m\u001b[0m\u001b[0;34m\u001b[0m\u001b[0m\n",
            "\u001b[0;31mKeyboardInterrupt\u001b[0m: "
          ]
        }
      ]
    },
    {
      "cell_type": "code",
      "metadata": {
        "id": "ukQJVGa4QXdg"
      },
      "source": [
        "print(optimal_params.best_params_)"
      ],
      "execution_count": null,
      "outputs": []
    },
    {
      "cell_type": "code",
      "metadata": {
        "colab": {
          "base_uri": "https://localhost:8080/"
        },
        "id": "Z_5pcIXnQaIa",
        "outputId": "5fc03df6-5254-4c16-d47e-a17b00a640c5"
      },
      "source": [
        "# Round 2\n",
        "param_grid={\n",
        "    'max_depth':[4],\n",
        "    'learning_rate':[0.05],\n",
        "    'gamma':[0,0.1,0.25], #min loss required to further split a node\n",
        "    'reg_lambda':[1,3,5],\n",
        "    'scale_pos_weight':[3]\n",
        "}\n",
        "\n",
        "optimal_params2=GridSearchCV(estimator=xgb.XGBClassifier(objective='binary:logistic',\n",
        "                                                        seed=42,\n",
        "                                                        subsample=0.9, #use 90% of sample for tree building\n",
        "                                                        colsample_bytree=0.5), #use half of the features for tree building\n",
        "                            param_grid=param_grid,\n",
        "                            scoring='roc_auc',\n",
        "                            verbose=0,\n",
        "                            n_jobs=10,\n",
        "                            cv=3)\n",
        "\n",
        "optimal_params2.fit(X_train,y_train,verbose=False,early_stopping_rounds=10,\n",
        "            eval_metric='auc',eval_set=[(X_test,y_test)])"
      ],
      "execution_count": 37,
      "outputs": [
        {
          "output_type": "execute_result",
          "data": {
            "text/plain": [
              "GridSearchCV(cv=3, error_score=nan,\n",
              "             estimator=XGBClassifier(base_score=0.5, booster='gbtree',\n",
              "                                     colsample_bylevel=1, colsample_bynode=1,\n",
              "                                     colsample_bytree=0.5, gamma=0,\n",
              "                                     learning_rate=0.1, max_delta_step=0,\n",
              "                                     max_depth=3, min_child_weight=1,\n",
              "                                     missing=None, n_estimators=100, n_jobs=1,\n",
              "                                     nthread=None, objective='binary:logistic',\n",
              "                                     random_state=0, reg_alpha=0, reg_lambda=1,\n",
              "                                     scale_pos_weight=1, seed=42, silent=None,\n",
              "                                     subsample=0.9, verbosity=1),\n",
              "             iid='deprecated', n_jobs=10,\n",
              "             param_grid={'gamma': [0, 0.1, 0.25], 'learning_rate': [0.05],\n",
              "                         'max_depth': [4], 'reg_lambda': [1, 3, 5],\n",
              "                         'scale_pos_weight': [3]},\n",
              "             pre_dispatch='2*n_jobs', refit=True, return_train_score=False,\n",
              "             scoring='roc_auc', verbose=0)"
            ]
          },
          "metadata": {
            "tags": []
          },
          "execution_count": 37
        }
      ]
    },
    {
      "cell_type": "code",
      "metadata": {
        "colab": {
          "base_uri": "https://localhost:8080/"
        },
        "id": "BS7HeVohd0GW",
        "outputId": "74f58bbc-192a-4c29-9afe-982b6fb23ce6"
      },
      "source": [
        "print(optimal_params2.best_params_)"
      ],
      "execution_count": 38,
      "outputs": [
        {
          "output_type": "stream",
          "text": [
            "{'gamma': 0, 'learning_rate': 0.05, 'max_depth': 4, 'reg_lambda': 1, 'scale_pos_weight': 3}\n"
          ],
          "name": "stdout"
        }
      ]
    },
    {
      "cell_type": "markdown",
      "metadata": {
        "id": "3tglElYKmHzW"
      },
      "source": [
        "#### 4.4 Build XGBoost model with optimized parameters"
      ]
    },
    {
      "cell_type": "code",
      "metadata": {
        "colab": {
          "base_uri": "https://localhost:8080/"
        },
        "id": "mdmREWzqlwZ3",
        "outputId": "932f5517-4714-4f1d-aae4-083f3425486b"
      },
      "source": [
        "clf_xgb=xgb.XGBClassifier(objective='binary:logistic',seed=42,\n",
        "                          gamma=0,learning_rate=0.05,max_depth=4,\n",
        "                          reg_lambda=1,subsample=0.9,colsample_bytree=0.5,\n",
        "                          scale_pos_weight=3)\n",
        "clf_xgb.fit(X_train,y_train,verbose=True,early_stopping_rounds=10,\n",
        "            eval_metric='auc',eval_set=[(X_test,y_test)])"
      ],
      "execution_count": 33,
      "outputs": [
        {
          "output_type": "stream",
          "text": [
            "[0]\tvalidation_0-auc:0.793025\n",
            "Will train until validation_0-auc hasn't improved in 10 rounds.\n",
            "[1]\tvalidation_0-auc:0.83349\n",
            "[2]\tvalidation_0-auc:0.841395\n",
            "[3]\tvalidation_0-auc:0.845844\n",
            "[4]\tvalidation_0-auc:0.849325\n",
            "[5]\tvalidation_0-auc:0.849072\n",
            "[6]\tvalidation_0-auc:0.850148\n",
            "[7]\tvalidation_0-auc:0.849613\n",
            "[8]\tvalidation_0-auc:0.849339\n",
            "[9]\tvalidation_0-auc:0.849995\n",
            "[10]\tvalidation_0-auc:0.850934\n",
            "[11]\tvalidation_0-auc:0.851531\n",
            "[12]\tvalidation_0-auc:0.852248\n",
            "[13]\tvalidation_0-auc:0.851893\n",
            "[14]\tvalidation_0-auc:0.853033\n",
            "[15]\tvalidation_0-auc:0.852827\n",
            "[16]\tvalidation_0-auc:0.852757\n",
            "[17]\tvalidation_0-auc:0.853518\n",
            "[18]\tvalidation_0-auc:0.85336\n",
            "[19]\tvalidation_0-auc:0.853882\n",
            "[20]\tvalidation_0-auc:0.85365\n",
            "[21]\tvalidation_0-auc:0.853743\n",
            "[22]\tvalidation_0-auc:0.853782\n",
            "[23]\tvalidation_0-auc:0.854611\n",
            "[24]\tvalidation_0-auc:0.854287\n",
            "[25]\tvalidation_0-auc:0.854214\n",
            "[26]\tvalidation_0-auc:0.854315\n",
            "[27]\tvalidation_0-auc:0.854866\n",
            "[28]\tvalidation_0-auc:0.855033\n",
            "[29]\tvalidation_0-auc:0.855398\n",
            "[30]\tvalidation_0-auc:0.855127\n",
            "[31]\tvalidation_0-auc:0.855254\n",
            "[32]\tvalidation_0-auc:0.855549\n",
            "[33]\tvalidation_0-auc:0.855725\n",
            "[34]\tvalidation_0-auc:0.855684\n",
            "[35]\tvalidation_0-auc:0.855799\n",
            "[36]\tvalidation_0-auc:0.855762\n",
            "[37]\tvalidation_0-auc:0.855687\n",
            "[38]\tvalidation_0-auc:0.856181\n",
            "[39]\tvalidation_0-auc:0.856149\n",
            "[40]\tvalidation_0-auc:0.856063\n",
            "[41]\tvalidation_0-auc:0.855964\n",
            "[42]\tvalidation_0-auc:0.856012\n",
            "[43]\tvalidation_0-auc:0.856193\n",
            "[44]\tvalidation_0-auc:0.856045\n",
            "[45]\tvalidation_0-auc:0.85584\n",
            "[46]\tvalidation_0-auc:0.855969\n",
            "[47]\tvalidation_0-auc:0.856256\n",
            "[48]\tvalidation_0-auc:0.856192\n",
            "[49]\tvalidation_0-auc:0.856654\n",
            "[50]\tvalidation_0-auc:0.856932\n",
            "[51]\tvalidation_0-auc:0.857061\n",
            "[52]\tvalidation_0-auc:0.857246\n",
            "[53]\tvalidation_0-auc:0.857165\n",
            "[54]\tvalidation_0-auc:0.857123\n",
            "[55]\tvalidation_0-auc:0.857045\n",
            "[56]\tvalidation_0-auc:0.857001\n",
            "[57]\tvalidation_0-auc:0.856855\n",
            "[58]\tvalidation_0-auc:0.856856\n",
            "[59]\tvalidation_0-auc:0.856921\n",
            "[60]\tvalidation_0-auc:0.857026\n",
            "[61]\tvalidation_0-auc:0.856944\n",
            "[62]\tvalidation_0-auc:0.856778\n",
            "Stopping. Best iteration:\n",
            "[52]\tvalidation_0-auc:0.857246\n",
            "\n"
          ],
          "name": "stdout"
        },
        {
          "output_type": "execute_result",
          "data": {
            "text/plain": [
              "XGBClassifier(base_score=0.5, booster='gbtree', colsample_bylevel=1,\n",
              "              colsample_bynode=1, colsample_bytree=0.5, gamma=0,\n",
              "              learning_rate=0.05, max_delta_step=0, max_depth=4,\n",
              "              min_child_weight=1, missing=None, n_estimators=100, n_jobs=1,\n",
              "              nthread=None, objective='binary:logistic', random_state=0,\n",
              "              reg_alpha=0, reg_lambda=1, scale_pos_weight=3, seed=42,\n",
              "              silent=None, subsample=0.9, verbosity=1)"
            ]
          },
          "metadata": {
            "tags": []
          },
          "execution_count": 33
        }
      ]
    },
    {
      "cell_type": "code",
      "metadata": {
        "colab": {
          "base_uri": "https://localhost:8080/",
          "height": 296
        },
        "id": "iceriRLUnAtc",
        "outputId": "8c48139b-9911-4a0a-c050-5a5c59355735"
      },
      "source": [
        "plot_confusion_matrix(clf_xgb,X_test,y_test,values_format='d',display_labels=[\"Stayed\",\"Left\"])"
      ],
      "execution_count": 34,
      "outputs": [
        {
          "output_type": "execute_result",
          "data": {
            "text/plain": [
              "<sklearn.metrics._plot.confusion_matrix.ConfusionMatrixDisplay at 0x7f0d59b59c18>"
            ]
          },
          "metadata": {
            "tags": []
          },
          "execution_count": 34
        },
        {
          "output_type": "display_data",
          "data": {
            "image/png": "[encoded data removed]",
            "text/plain": [
              "<Figure size 432x288 with 2 Axes>"
            ]
          },
          "metadata": {
            "tags": [],
            "needs_background": "light"
          }
        }
      ]
    },
    {
      "cell_type": "markdown",
      "metadata": {
        "id": "6NCA-Rhggybb"
      },
      "source": [
        "Now we can see that with the updated hyper-parameters, the new model gives ~72% rate of recall for \"Left\" population which is a significant increase compared to the initial model. However, this increase comes with the cost that the accuracy of predicting \"Stayed\" population decreases. In a more realistic context, we could argue that accurately predicting clients that tend to leave is more important than predicting those that are more likely to stay. This is the importance of customer retention."
      ]
    },
    {
      "cell_type": "markdown",
      "metadata": {
        "id": "kixDMOrNbZuJ"
      },
      "source": [
        "#### 4.4 Visualize the model"
      ]
    },
    {
      "cell_type": "code",
      "metadata": {
        "colab": {
          "base_uri": "https://localhost:8080/"
        },
        "id": "urbgLGKmXiCr",
        "outputId": "a0564627-d11f-4ef7-8d4b-840c4b878b07"
      },
      "source": [
        "clf_xgb=xgb.XGBClassifier(objective='binary:logistic',seed=42,\n",
        "                          gamma=0,learning_rate=0.05,max_depth=4,\n",
        "                          reg_lambda=1,subsample=0.9,colsample_bytree=0.5,\n",
        "                          scale_pos_weight=3,n_estimators=1)\n",
        "clf_xgb.fit(X_train,y_train)"
      ],
      "execution_count": 35,
      "outputs": [
        {
          "output_type": "execute_result",
          "data": {
            "text/plain": [
              "XGBClassifier(base_score=0.5, booster='gbtree', colsample_bylevel=1,\n",
              "              colsample_bynode=1, colsample_bytree=0.5, gamma=0,\n",
              "              learning_rate=0.05, max_delta_step=0, max_depth=4,\n",
              "              min_child_weight=1, missing=None, n_estimators=1, n_jobs=1,\n",
              "              nthread=None, objective='binary:logistic', random_state=0,\n",
              "              reg_alpha=0, reg_lambda=1, scale_pos_weight=3, seed=42,\n",
              "              silent=None, subsample=0.9, verbosity=1)"
            ]
          },
          "metadata": {
            "tags": []
          },
          "execution_count": 35
        }
      ]
    },
    {
      "cell_type": "code",
      "metadata": {
        "colab": {
          "base_uri": "https://localhost:8080/",
          "height": 281
        },
        "id": "fcURCk0KboDL",
        "outputId": "72fb5a68-f26c-4031-ab16-d6ee1ecaaee3"
      },
      "source": [
        "bst=clf_xgb.get_booster()\n",
        "for importance_type in ('weight','gain','cover','total_gain','total_cover'):\n",
        "  print('%s: '%importance_type, bst.get_score(importance_type=importance_type))\n",
        "\n",
        "node_params={'shape':'box',\n",
        "             'style':'filled, rounded'\n",
        "             }\n",
        "leaf_params={'shape':'box',\n",
        "             'style':'filled'\n",
        "             }\n",
        "xgb.to_graphviz(clf_xgb,num_trees=0,size=\"10,10\",\n",
        "                condition_node_params=node_params,\n",
        "                leaf_node_params=leaf_params)"
      ],
      "execution_count": 36,
      "outputs": [
        {
          "output_type": "stream",
          "text": [
            "weight:  {'Contract_Month-to-month': 1, 'Streaming_Movies_Yes': 1, 'Payment_Method_Electronic_check': 2, 'Zip_Code': 1, 'Longitude': 4, 'Paperless_Billing_No': 2, 'Tech_Support_Yes': 3, 'Online_Security_No_internet_service': 1}\n",
            "gain:  {'Contract_Month-to-month': 1620.81152, 'Streaming_Movies_Yes': 70.5357666, 'Payment_Method_Electronic_check': 50.3479004, 'Zip_Code': 7.01306152, 'Longitude': 10.14406254, 'Paperless_Billing_No': 14.722370605, 'Tech_Support_Yes': 22.74882, 'Online_Security_No_internet_service': 182.386108}\n",
            "cover:  {'Contract_Month-to-month': 1707.0, 'Streaming_Movies_Yes': 566.5, 'Payment_Method_Electronic_check': 660.375, 'Zip_Code': 256.25, 'Longitude': 84.125, 'Paperless_Billing_No': 141.5, 'Tech_Support_Yes': 405.8333333333333, 'Online_Security_No_internet_service': 1140.5}\n",
            "total_gain:  {'Contract_Month-to-month': 1620.81152, 'Streaming_Movies_Yes': 70.5357666, 'Payment_Method_Electronic_check': 100.6958008, 'Zip_Code': 7.01306152, 'Longitude': 40.57625016, 'Paperless_Billing_No': 29.44474121, 'Tech_Support_Yes': 68.24646, 'Online_Security_No_internet_service': 182.386108}\n",
            "total_cover:  {'Contract_Month-to-month': 1707.0, 'Streaming_Movies_Yes': 566.5, 'Payment_Method_Electronic_check': 1320.75, 'Zip_Code': 256.25, 'Longitude': 336.5, 'Paperless_Billing_No': 283.0, 'Tech_Support_Yes': 1217.5, 'Online_Security_No_internet_service': 1140.5}\n"
          ],
          "name": "stdout"
        },
        {
          "output_type": "execute_result",
          "data": {
            "text/plain": [
              "<graphviz.dot.Digraph at 0x7f0d591ff2b0>"
            ],
            "image/svg+xml": "<?xml version=\"1.0\" encoding=\"UTF-8\" standalone=\"no\"?>\n<!DOCTYPE svg PUBLIC \"-//W3C//DTD SVG 1.1//EN\"\n \"http://www.w3.org/Graphics/SVG/1.1/DTD/svg11.dtd\">\n<!-- Generated by graphviz version 2.40.1 (20161225.0304)\n -->\n<!-- Title: %3 Pages: 1 -->\n<svg width=\"720pt\" height=\"116pt\"\n viewBox=\"0.00 0.00 720.00 116.12\" xmlns=\"http://www.w3.org/2000/svg\" xmlns:xlink=\"http://www.w3.org/1999/xlink\">\n<g id=\"graph0\" class=\"graph\" transform=\"scale(.2962 .2962) rotate(0) translate(4 388)\">\n<title>%3</title>\n<polygon fill=\"#ffffff\" stroke=\"transparent\" points=\"-4,4 -4,-388 2426.5,-388 2426.5,4 -4,4\"/>\n<!-- 0 -->\n<g id=\"node1\" class=\"node\">\n<title>0</title>\n<path fill=\"#d3d3d3\" stroke=\"#000000\" d=\"M1367,-384C1367,-384 1206,-384 1206,-384 1200,-384 1194,-378 1194,-372 1194,-372 1194,-360 1194,-360 1194,-354 1200,-348 1206,-348 1206,-348 1367,-348 1367,-348 1373,-348 1379,-354 1379,-360 1379,-360 1379,-372 1379,-372 1379,-378 1373,-384 1367,-384\"/>\n<text text-anchor=\"middle\" x=\"1286.5\" y=\"-362.3\" font-family=\"Times,serif\" font-size=\"14.00\" fill=\"#000000\">Contract_Month&#45;to&#45;month&lt;1</text>\n</g>\n<!-- 1 -->\n<g id=\"node2\" class=\"node\">\n<title>1</title>\n<path fill=\"#d3d3d3\" stroke=\"#000000\" d=\"M969,-297C969,-297 824,-297 824,-297 818,-297 812,-291 812,-285 812,-285 812,-273 812,-273 812,-267 818,-261 824,-261 824,-261 969,-261 969,-261 975,-261 981,-267 981,-273 981,-273 981,-285 981,-285 981,-291 975,-297 969,-297\"/>\n<text text-anchor=\"middle\" x=\"896.5\" y=\"-275.3\" font-family=\"Times,serif\" font-size=\"14.00\" fill=\"#000000\">Streaming_Movies_Yes&lt;1</text>\n</g>\n<!-- 0&#45;&gt;1 -->\n<g id=\"edge1\" class=\"edge\">\n<title>0&#45;&gt;1</title>\n<path fill=\"none\" stroke=\"#0000ff\" d=\"M1205.6917,-347.9735C1142.0264,-333.7713 1053.2867,-313.9755 987.1973,-299.2325\"/>\n<polygon fill=\"#0000ff\" stroke=\"#0000ff\" points=\"987.7269,-295.7647 977.2047,-297.0034 986.2028,-302.5967 987.7269,-295.7647\"/>\n<text text-anchor=\"middle\" x=\"1151\" y=\"-318.8\" font-family=\"Times,serif\" font-size=\"14.00\" fill=\"#000000\">yes, missing</text>\n</g>\n<!-- 2 -->\n<g id=\"node3\" class=\"node\">\n<title>2</title>\n<path fill=\"#d3d3d3\" stroke=\"#000000\" d=\"M1648.5,-297C1648.5,-297 1424.5,-297 1424.5,-297 1418.5,-297 1412.5,-291 1412.5,-285 1412.5,-285 1412.5,-273 1412.5,-273 1412.5,-267 1418.5,-261 1424.5,-261 1424.5,-261 1648.5,-261 1648.5,-261 1654.5,-261 1660.5,-267 1660.5,-273 1660.5,-273 1660.5,-285 1660.5,-285 1660.5,-291 1654.5,-297 1648.5,-297\"/>\n<text text-anchor=\"middle\" x=\"1536.5\" y=\"-275.3\" font-family=\"Times,serif\" font-size=\"14.00\" fill=\"#000000\">Online_Security_No_internet_service&lt;1</text>\n</g>\n<!-- 0&#45;&gt;2 -->\n<g id=\"edge2\" class=\"edge\">\n<title>0&#45;&gt;2</title>\n<path fill=\"none\" stroke=\"#ff0000\" d=\"M1338.3002,-347.9735C1378.1057,-334.1212 1433.2021,-314.9477 1475.203,-300.3313\"/>\n<polygon fill=\"#ff0000\" stroke=\"#ff0000\" points=\"1476.4721,-303.5957 1484.7662,-297.0034 1474.1714,-296.9845 1476.4721,-303.5957\"/>\n<text text-anchor=\"middle\" x=\"1434.5\" y=\"-318.8\" font-family=\"Times,serif\" font-size=\"14.00\" fill=\"#000000\">no</text>\n</g>\n<!-- 3 -->\n<g id=\"node4\" class=\"node\">\n<title>3</title>\n<path fill=\"#d3d3d3\" stroke=\"#000000\" d=\"M579,-210C579,-210 362,-210 362,-210 356,-210 350,-204 350,-198 350,-198 350,-186 350,-186 350,-180 356,-174 362,-174 362,-174 579,-174 579,-174 585,-174 591,-180 591,-186 591,-186 591,-198 591,-198 591,-204 585,-210 579,-210\"/>\n<text text-anchor=\"middle\" x=\"470.5\" y=\"-188.3\" font-family=\"Times,serif\" font-size=\"14.00\" fill=\"#000000\">Payment_Method_Electronic_check&lt;1</text>\n</g>\n<!-- 1&#45;&gt;3 -->\n<g id=\"edge3\" class=\"edge\">\n<title>1&#45;&gt;3</title>\n<path fill=\"none\" stroke=\"#0000ff\" d=\"M811.8268,-261.7076C741.8397,-247.4144 642.3832,-227.1029 568.8715,-212.0899\"/>\n<polygon fill=\"#0000ff\" stroke=\"#0000ff\" points=\"569.1747,-208.5797 558.6766,-210.0079 567.774,-215.4381 569.1747,-208.5797\"/>\n<text text-anchor=\"middle\" x=\"745\" y=\"-231.8\" font-family=\"Times,serif\" font-size=\"14.00\" fill=\"#000000\">yes, missing</text>\n</g>\n<!-- 4 -->\n<g id=\"node5\" class=\"node\">\n<title>4</title>\n<path fill=\"#d3d3d3\" stroke=\"#000000\" d=\"M963.5,-210C963.5,-210 829.5,-210 829.5,-210 823.5,-210 817.5,-204 817.5,-198 817.5,-198 817.5,-186 817.5,-186 817.5,-180 823.5,-174 829.5,-174 829.5,-174 963.5,-174 963.5,-174 969.5,-174 975.5,-180 975.5,-186 975.5,-186 975.5,-198 975.5,-198 975.5,-204 969.5,-210 963.5,-210\"/>\n<text text-anchor=\"middle\" x=\"896.5\" y=\"-188.3\" font-family=\"Times,serif\" font-size=\"14.00\" fill=\"#000000\">Paperless_Billing_No&lt;1</text>\n</g>\n<!-- 1&#45;&gt;4 -->\n<g id=\"edge4\" class=\"edge\">\n<title>1&#45;&gt;4</title>\n<path fill=\"none\" stroke=\"#ff0000\" d=\"M896.5,-260.9735C896.5,-249.1918 896.5,-233.5607 896.5,-220.1581\"/>\n<polygon fill=\"#ff0000\" stroke=\"#ff0000\" points=\"900.0001,-220.0033 896.5,-210.0034 893.0001,-220.0034 900.0001,-220.0033\"/>\n<text text-anchor=\"middle\" x=\"904.5\" y=\"-231.8\" font-family=\"Times,serif\" font-size=\"14.00\" fill=\"#000000\">no</text>\n</g>\n<!-- 5 -->\n<g id=\"node18\" class=\"node\">\n<title>5</title>\n<path fill=\"#d3d3d3\" stroke=\"#000000\" d=\"M1645,-210C1645,-210 1428,-210 1428,-210 1422,-210 1416,-204 1416,-198 1416,-198 1416,-186 1416,-186 1416,-180 1422,-174 1428,-174 1428,-174 1645,-174 1645,-174 1651,-174 1657,-180 1657,-186 1657,-186 1657,-198 1657,-198 1657,-204 1651,-210 1645,-210\"/>\n<text text-anchor=\"middle\" x=\"1536.5\" y=\"-188.3\" font-family=\"Times,serif\" font-size=\"14.00\" fill=\"#000000\">Payment_Method_Electronic_check&lt;1</text>\n</g>\n<!-- 2&#45;&gt;5 -->\n<g id=\"edge17\" class=\"edge\">\n<title>2&#45;&gt;5</title>\n<path fill=\"none\" stroke=\"#0000ff\" d=\"M1536.5,-260.9735C1536.5,-249.1918 1536.5,-233.5607 1536.5,-220.1581\"/>\n<polygon fill=\"#0000ff\" stroke=\"#0000ff\" points=\"1540.0001,-220.0033 1536.5,-210.0034 1533.0001,-220.0034 1540.0001,-220.0033\"/>\n<text text-anchor=\"middle\" x=\"1572\" y=\"-231.8\" font-family=\"Times,serif\" font-size=\"14.00\" fill=\"#000000\">yes, missing</text>\n</g>\n<!-- 6 -->\n<g id=\"node19\" class=\"node\">\n<title>6</title>\n<path fill=\"#d3d3d3\" stroke=\"#000000\" d=\"M2017,-210C2017,-210 1880,-210 1880,-210 1874,-210 1868,-204 1868,-198 1868,-198 1868,-186 1868,-186 1868,-180 1874,-174 1880,-174 1880,-174 2017,-174 2017,-174 2023,-174 2029,-180 2029,-186 2029,-186 2029,-198 2029,-198 2029,-204 2023,-210 2017,-210\"/>\n<text text-anchor=\"middle\" x=\"1948.5\" y=\"-188.3\" font-family=\"Times,serif\" font-size=\"14.00\" fill=\"#000000\">Longitude&lt;&#45;123.596039</text>\n</g>\n<!-- 2&#45;&gt;6 -->\n<g id=\"edge18\" class=\"edge\">\n<title>2&#45;&gt;6</title>\n<path fill=\"none\" stroke=\"#ff0000\" d=\"M1621.8667,-260.9735C1690.7218,-246.4338 1787.3395,-226.0315 1857.6228,-211.1901\"/>\n<polygon fill=\"#ff0000\" stroke=\"#ff0000\" points=\"1858.7339,-214.5327 1867.795,-209.0421 1857.2876,-207.6838 1858.7339,-214.5327\"/>\n<text text-anchor=\"middle\" x=\"1775.5\" y=\"-231.8\" font-family=\"Times,serif\" font-size=\"14.00\" fill=\"#000000\">no</text>\n</g>\n<!-- 7 -->\n<g id=\"node6\" class=\"node\">\n<title>7</title>\n<path fill=\"#d3d3d3\" stroke=\"#000000\" d=\"M266,-123C266,-123 169,-123 169,-123 163,-123 157,-117 157,-111 157,-111 157,-99 157,-99 157,-93 163,-87 169,-87 169,-87 266,-87 266,-87 272,-87 278,-93 278,-99 278,-99 278,-111 278,-111 278,-117 272,-123 266,-123\"/>\n<text text-anchor=\"middle\" x=\"217.5\" y=\"-101.3\" font-family=\"Times,serif\" font-size=\"14.00\" fill=\"#000000\">Zip_Code&lt;90010</text>\n</g>\n<!-- 3&#45;&gt;7 -->\n<g id=\"edge5\" class=\"edge\">\n<title>3&#45;&gt;7</title>\n<path fill=\"none\" stroke=\"#0000ff\" d=\"M418.0782,-173.9735C377.795,-160.1212 322.0374,-140.9477 279.5325,-126.3313\"/>\n<polygon fill=\"#0000ff\" stroke=\"#0000ff\" points=\"280.4493,-122.9455 269.8546,-123.0034 278.173,-129.5651 280.4493,-122.9455\"/>\n<text text-anchor=\"middle\" x=\"395\" y=\"-144.8\" font-family=\"Times,serif\" font-size=\"14.00\" fill=\"#000000\">yes, missing</text>\n</g>\n<!-- 8 -->\n<g id=\"node7\" class=\"node\">\n<title>8</title>\n<path fill=\"#d3d3d3\" stroke=\"#000000\" d=\"M538.5,-123C538.5,-123 402.5,-123 402.5,-123 396.5,-123 390.5,-117 390.5,-111 390.5,-111 390.5,-99 390.5,-99 390.5,-93 396.5,-87 402.5,-87 402.5,-87 538.5,-87 538.5,-87 544.5,-87 550.5,-93 550.5,-99 550.5,-99 550.5,-111 550.5,-111 550.5,-117 544.5,-123 538.5,-123\"/>\n<text text-anchor=\"middle\" x=\"470.5\" y=\"-101.3\" font-family=\"Times,serif\" font-size=\"14.00\" fill=\"#000000\">Longitude&lt;&#45;116.608971</text>\n</g>\n<!-- 3&#45;&gt;8 -->\n<g id=\"edge6\" class=\"edge\">\n<title>3&#45;&gt;8</title>\n<path fill=\"none\" stroke=\"#ff0000\" d=\"M470.5,-173.9735C470.5,-162.1918 470.5,-146.5607 470.5,-133.1581\"/>\n<polygon fill=\"#ff0000\" stroke=\"#ff0000\" points=\"474.0001,-133.0033 470.5,-123.0034 467.0001,-133.0034 474.0001,-133.0033\"/>\n<text text-anchor=\"middle\" x=\"478.5\" y=\"-144.8\" font-family=\"Times,serif\" font-size=\"14.00\" fill=\"#000000\">no</text>\n</g>\n<!-- 9 -->\n<g id=\"node12\" class=\"node\">\n<title>9</title>\n<path fill=\"#d3d3d3\" stroke=\"#000000\" d=\"M880.5,-123C880.5,-123 762.5,-123 762.5,-123 756.5,-123 750.5,-117 750.5,-111 750.5,-111 750.5,-99 750.5,-99 750.5,-93 756.5,-87 762.5,-87 762.5,-87 880.5,-87 880.5,-87 886.5,-87 892.5,-93 892.5,-99 892.5,-99 892.5,-111 892.5,-111 892.5,-117 886.5,-123 880.5,-123\"/>\n<text text-anchor=\"middle\" x=\"821.5\" y=\"-101.3\" font-family=\"Times,serif\" font-size=\"14.00\" fill=\"#000000\">Tech_Support_Yes&lt;1</text>\n</g>\n<!-- 4&#45;&gt;9 -->\n<g id=\"edge11\" class=\"edge\">\n<title>4&#45;&gt;9</title>\n<path fill=\"none\" stroke=\"#0000ff\" d=\"M877.3298,-173.7696C871.7452,-168.2115 865.7401,-161.9852 860.5,-156 853.7427,-148.282 846.8036,-139.522 840.6867,-131.4667\"/>\n<polygon fill=\"#0000ff\" stroke=\"#0000ff\" points=\"843.445,-129.311 834.6519,-123.4006 837.8401,-133.5044 843.445,-129.311\"/>\n<text text-anchor=\"middle\" x=\"896\" y=\"-144.8\" font-family=\"Times,serif\" font-size=\"14.00\" fill=\"#000000\">yes, missing</text>\n</g>\n<!-- 10 -->\n<g id=\"node13\" class=\"node\">\n<title>10</title>\n<path fill=\"#d3d3d3\" stroke=\"#000000\" d=\"M1058.5,-123C1058.5,-123 922.5,-123 922.5,-123 916.5,-123 910.5,-117 910.5,-111 910.5,-111 910.5,-99 910.5,-99 910.5,-93 916.5,-87 922.5,-87 922.5,-87 1058.5,-87 1058.5,-87 1064.5,-87 1070.5,-93 1070.5,-99 1070.5,-99 1070.5,-111 1070.5,-111 1070.5,-117 1064.5,-123 1058.5,-123\"/>\n<text text-anchor=\"middle\" x=\"990.5\" y=\"-101.3\" font-family=\"Times,serif\" font-size=\"14.00\" fill=\"#000000\">Longitude&lt;&#45;117.877235</text>\n</g>\n<!-- 4&#45;&gt;10 -->\n<g id=\"edge12\" class=\"edge\">\n<title>4&#45;&gt;10</title>\n<path fill=\"none\" stroke=\"#ff0000\" d=\"M915.9769,-173.9735C929.7149,-161.2586 948.2969,-144.0603 963.4688,-130.0183\"/>\n<polygon fill=\"#ff0000\" stroke=\"#ff0000\" points=\"966.0864,-132.3646 971.0481,-123.0034 961.3316,-127.2272 966.0864,-132.3646\"/>\n<text text-anchor=\"middle\" x=\"957.5\" y=\"-144.8\" font-family=\"Times,serif\" font-size=\"14.00\" fill=\"#000000\">no</text>\n</g>\n<!-- 15 -->\n<g id=\"node8\" class=\"node\">\n<title>15</title>\n<polygon fill=\"#d3d3d3\" stroke=\"#000000\" points=\"131,-36 0,-36 0,0 131,0 131,-36\"/>\n<text text-anchor=\"middle\" x=\"65.5\" y=\"-14.3\" font-family=\"Times,serif\" font-size=\"14.00\" fill=\"#000000\">leaf=0.0250000004</text>\n</g>\n<!-- 7&#45;&gt;15 -->\n<g id=\"edge7\" class=\"edge\">\n<title>7&#45;&gt;15</title>\n<path fill=\"none\" stroke=\"#0000ff\" d=\"M177.2751,-86.9432C165.87,-81.4886 153.5535,-75.274 142.5,-69 127.9725,-60.7541 112.5171,-50.7735 99.2948,-41.8356\"/>\n<polygon fill=\"#0000ff\" stroke=\"#0000ff\" points=\"101.1919,-38.8929 90.9605,-36.1415 97.243,-44.6727 101.1919,-38.8929\"/>\n<text text-anchor=\"middle\" x=\"178\" y=\"-57.8\" font-family=\"Times,serif\" font-size=\"14.00\" fill=\"#000000\">yes, missing</text>\n</g>\n<!-- 16 -->\n<g id=\"node9\" class=\"node\">\n<title>16</title>\n<polygon fill=\"#d3d3d3\" stroke=\"#000000\" points=\"285.5,-36 149.5,-36 149.5,0 285.5,0 285.5,-36\"/>\n<text text-anchor=\"middle\" x=\"217.5\" y=\"-14.3\" font-family=\"Times,serif\" font-size=\"14.00\" fill=\"#000000\">leaf=&#45;0.0873170719</text>\n</g>\n<!-- 7&#45;&gt;16 -->\n<g id=\"edge8\" class=\"edge\">\n<title>7&#45;&gt;16</title>\n<path fill=\"none\" stroke=\"#ff0000\" d=\"M217.5,-86.9735C217.5,-75.1918 217.5,-59.5607 217.5,-46.1581\"/>\n<polygon fill=\"#ff0000\" stroke=\"#ff0000\" points=\"221.0001,-46.0033 217.5,-36.0034 214.0001,-46.0034 221.0001,-46.0033\"/>\n<text text-anchor=\"middle\" x=\"225.5\" y=\"-57.8\" font-family=\"Times,serif\" font-size=\"14.00\" fill=\"#000000\">no</text>\n</g>\n<!-- 17 -->\n<g id=\"node10\" class=\"node\">\n<title>17</title>\n<polygon fill=\"#d3d3d3\" stroke=\"#000000\" points=\"439.5,-36 303.5,-36 303.5,0 439.5,0 439.5,-36\"/>\n<text text-anchor=\"middle\" x=\"371.5\" y=\"-14.3\" font-family=\"Times,serif\" font-size=\"14.00\" fill=\"#000000\">leaf=&#45;0.0518797003</text>\n</g>\n<!-- 8&#45;&gt;17 -->\n<g id=\"edge9\" class=\"edge\">\n<title>8&#45;&gt;17</title>\n<path fill=\"none\" stroke=\"#0000ff\" d=\"M442.7389,-86.9174C434.9769,-81.4624 426.7004,-75.2541 419.5,-69 410.6444,-61.3083 401.6469,-52.1714 393.8719,-43.7708\"/>\n<polygon fill=\"#0000ff\" stroke=\"#0000ff\" points=\"396.4269,-41.3781 387.1144,-36.3256 391.2435,-46.0827 396.4269,-41.3781\"/>\n<text text-anchor=\"middle\" x=\"455\" y=\"-57.8\" font-family=\"Times,serif\" font-size=\"14.00\" fill=\"#000000\">yes, missing</text>\n</g>\n<!-- 18 -->\n<g id=\"node11\" class=\"node\">\n<title>18</title>\n<polygon fill=\"#d3d3d3\" stroke=\"#000000\" points=\"589,-36 458,-36 458,0 589,0 589,-36\"/>\n<text text-anchor=\"middle\" x=\"523.5\" y=\"-14.3\" font-family=\"Times,serif\" font-size=\"14.00\" fill=\"#000000\">leaf=0.0230769236</text>\n</g>\n<!-- 8&#45;&gt;18 -->\n<g id=\"edge10\" class=\"edge\">\n<title>8&#45;&gt;18</title>\n<path fill=\"none\" stroke=\"#ff0000\" d=\"M481.4816,-86.9735C488.9433,-74.7252 498.9394,-58.3165 507.3097,-44.5766\"/>\n<polygon fill=\"#ff0000\" stroke=\"#ff0000\" points=\"510.3188,-46.3644 512.5324,-36.0034 504.3408,-42.7225 510.3188,-46.3644\"/>\n<text text-anchor=\"middle\" x=\"508.5\" y=\"-57.8\" font-family=\"Times,serif\" font-size=\"14.00\" fill=\"#000000\">no</text>\n</g>\n<!-- 19 -->\n<g id=\"node14\" class=\"node\">\n<title>19</title>\n<polygon fill=\"#d3d3d3\" stroke=\"#000000\" points=\"743.5,-36 607.5,-36 607.5,0 743.5,0 743.5,-36\"/>\n<text text-anchor=\"middle\" x=\"675.5\" y=\"-14.3\" font-family=\"Times,serif\" font-size=\"14.00\" fill=\"#000000\">leaf=&#45;0.0149659859</text>\n</g>\n<!-- 9&#45;&gt;19 -->\n<g id=\"edge13\" class=\"edge\">\n<title>9&#45;&gt;19</title>\n<path fill=\"none\" stroke=\"#0000ff\" d=\"M783.4328,-86.8243C772.6362,-81.3678 760.9735,-75.182 750.5,-69 736.5077,-60.741 721.61,-50.854 708.8102,-41.9933\"/>\n<polygon fill=\"#0000ff\" stroke=\"#0000ff\" points=\"710.5214,-38.919 700.3208,-36.0555 706.5093,-44.6552 710.5214,-38.919\"/>\n<text text-anchor=\"middle\" x=\"786\" y=\"-57.8\" font-family=\"Times,serif\" font-size=\"14.00\" fill=\"#000000\">yes, missing</text>\n</g>\n<!-- 20 -->\n<g id=\"node15\" class=\"node\">\n<title>20</title>\n<polygon fill=\"#d3d3d3\" stroke=\"#000000\" points=\"897.5,-36 761.5,-36 761.5,0 897.5,0 897.5,-36\"/>\n<text text-anchor=\"middle\" x=\"829.5\" y=\"-14.3\" font-family=\"Times,serif\" font-size=\"14.00\" fill=\"#000000\">leaf=&#45;0.0487068966</text>\n</g>\n<!-- 9&#45;&gt;20 -->\n<g id=\"edge14\" class=\"edge\">\n<title>9&#45;&gt;20</title>\n<path fill=\"none\" stroke=\"#ff0000\" d=\"M823.1576,-86.9735C824.241,-75.1918 825.6783,-59.5607 826.9108,-46.1581\"/>\n<polygon fill=\"#ff0000\" stroke=\"#ff0000\" points=\"830.414,-46.2819 827.8445,-36.0034 823.4435,-45.6408 830.414,-46.2819\"/>\n<text text-anchor=\"middle\" x=\"834.5\" y=\"-57.8\" font-family=\"Times,serif\" font-size=\"14.00\" fill=\"#000000\">no</text>\n</g>\n<!-- 21 -->\n<g id=\"node16\" class=\"node\">\n<title>21</title>\n<polygon fill=\"#d3d3d3\" stroke=\"#000000\" points=\"1051.5,-36 915.5,-36 915.5,0 1051.5,0 1051.5,-36\"/>\n<text text-anchor=\"middle\" x=\"983.5\" y=\"-14.3\" font-family=\"Times,serif\" font-size=\"14.00\" fill=\"#000000\">leaf=&#45;0.0763837621</text>\n</g>\n<!-- 10&#45;&gt;21 -->\n<g id=\"edge15\" class=\"edge\">\n<title>10&#45;&gt;21</title>\n<path fill=\"none\" stroke=\"#0000ff\" d=\"M989.0496,-86.9735C988.1016,-75.1918 986.844,-59.5607 985.7656,-46.1581\"/>\n<polygon fill=\"#0000ff\" stroke=\"#0000ff\" points=\"989.2394,-45.6904 984.9485,-36.0034 982.2619,-46.2519 989.2394,-45.6904\"/>\n<text text-anchor=\"middle\" x=\"1023\" y=\"-57.8\" font-family=\"Times,serif\" font-size=\"14.00\" fill=\"#000000\">yes, missing</text>\n</g>\n<!-- 22 -->\n<g id=\"node17\" class=\"node\">\n<title>22</title>\n<polygon fill=\"#d3d3d3\" stroke=\"#000000\" points=\"1205.5,-36 1069.5,-36 1069.5,0 1205.5,0 1205.5,-36\"/>\n<text text-anchor=\"middle\" x=\"1137.5\" y=\"-14.3\" font-family=\"Times,serif\" font-size=\"14.00\" fill=\"#000000\">leaf=&#45;0.0422222242</text>\n</g>\n<!-- 10&#45;&gt;22 -->\n<g id=\"edge16\" class=\"edge\">\n<title>10&#45;&gt;22</title>\n<path fill=\"none\" stroke=\"#ff0000\" d=\"M1029.1195,-86.8754C1040.0685,-81.4198 1051.8914,-75.2216 1062.5,-69 1076.5155,-60.7803 1091.4176,-50.901 1104.2145,-42.0354\"/>\n<polygon fill=\"#ff0000\" stroke=\"#ff0000\" points=\"1106.5174,-44.6956 1112.7009,-36.0924 1102.502,-38.9618 1106.5174,-44.6956\"/>\n<text text-anchor=\"middle\" x=\"1094.5\" y=\"-57.8\" font-family=\"Times,serif\" font-size=\"14.00\" fill=\"#000000\">no</text>\n</g>\n<!-- 11 -->\n<g id=\"node20\" class=\"node\">\n<title>11</title>\n<path fill=\"#d3d3d3\" stroke=\"#000000\" d=\"M1497.5,-123C1497.5,-123 1379.5,-123 1379.5,-123 1373.5,-123 1367.5,-117 1367.5,-111 1367.5,-111 1367.5,-99 1367.5,-99 1367.5,-93 1373.5,-87 1379.5,-87 1379.5,-87 1497.5,-87 1497.5,-87 1503.5,-87 1509.5,-93 1509.5,-99 1509.5,-99 1509.5,-111 1509.5,-111 1509.5,-117 1503.5,-123 1497.5,-123\"/>\n<text text-anchor=\"middle\" x=\"1438.5\" y=\"-101.3\" font-family=\"Times,serif\" font-size=\"14.00\" fill=\"#000000\">Tech_Support_Yes&lt;1</text>\n</g>\n<!-- 5&#45;&gt;11 -->\n<g id=\"edge19\" class=\"edge\">\n<title>5&#45;&gt;11</title>\n<path fill=\"none\" stroke=\"#0000ff\" d=\"M1511.6189,-173.9098C1504.332,-168.3556 1496.4575,-162.0963 1489.5,-156 1480.4147,-148.0393 1470.9346,-138.8362 1462.6473,-130.4575\"/>\n<polygon fill=\"#0000ff\" stroke=\"#0000ff\" points=\"1464.9081,-127.7631 1455.4174,-123.0538 1459.8999,-132.6537 1464.9081,-127.7631\"/>\n<text text-anchor=\"middle\" x=\"1525\" y=\"-144.8\" font-family=\"Times,serif\" font-size=\"14.00\" fill=\"#000000\">yes, missing</text>\n</g>\n<!-- 12 -->\n<g id=\"node21\" class=\"node\">\n<title>12</title>\n<path fill=\"#d3d3d3\" stroke=\"#000000\" d=\"M1657.5,-123C1657.5,-123 1539.5,-123 1539.5,-123 1533.5,-123 1527.5,-117 1527.5,-111 1527.5,-111 1527.5,-99 1527.5,-99 1527.5,-93 1533.5,-87 1539.5,-87 1539.5,-87 1657.5,-87 1657.5,-87 1663.5,-87 1669.5,-93 1669.5,-99 1669.5,-99 1669.5,-111 1669.5,-111 1669.5,-117 1663.5,-123 1657.5,-123\"/>\n<text text-anchor=\"middle\" x=\"1598.5\" y=\"-101.3\" font-family=\"Times,serif\" font-size=\"14.00\" fill=\"#000000\">Tech_Support_Yes&lt;1</text>\n</g>\n<!-- 5&#45;&gt;12 -->\n<g id=\"edge20\" class=\"edge\">\n<title>5&#45;&gt;12</title>\n<path fill=\"none\" stroke=\"#ff0000\" d=\"M1549.3464,-173.9735C1558.1583,-161.6085 1569.9917,-145.0036 1579.8396,-131.1847\"/>\n<polygon fill=\"#ff0000\" stroke=\"#ff0000\" points=\"1582.7167,-133.1783 1585.67,-123.0034 1577.0162,-129.1158 1582.7167,-133.1783\"/>\n<text text-anchor=\"middle\" x=\"1579.5\" y=\"-144.8\" font-family=\"Times,serif\" font-size=\"14.00\" fill=\"#000000\">no</text>\n</g>\n<!-- 13 -->\n<g id=\"node26\" class=\"node\">\n<title>13</title>\n<path fill=\"#d3d3d3\" stroke=\"#000000\" d=\"M2015.5,-123C2015.5,-123 1881.5,-123 1881.5,-123 1875.5,-123 1869.5,-117 1869.5,-111 1869.5,-111 1869.5,-99 1869.5,-99 1869.5,-93 1875.5,-87 1881.5,-87 1881.5,-87 2015.5,-87 2015.5,-87 2021.5,-87 2027.5,-93 2027.5,-99 2027.5,-99 2027.5,-111 2027.5,-111 2027.5,-117 2021.5,-123 2015.5,-123\"/>\n<text text-anchor=\"middle\" x=\"1948.5\" y=\"-101.3\" font-family=\"Times,serif\" font-size=\"14.00\" fill=\"#000000\">Paperless_Billing_No&lt;1</text>\n</g>\n<!-- 6&#45;&gt;13 -->\n<g id=\"edge25\" class=\"edge\">\n<title>6&#45;&gt;13</title>\n<path fill=\"none\" stroke=\"#0000ff\" d=\"M1948.5,-173.9735C1948.5,-162.1918 1948.5,-146.5607 1948.5,-133.1581\"/>\n<polygon fill=\"#0000ff\" stroke=\"#0000ff\" points=\"1952.0001,-133.0033 1948.5,-123.0034 1945.0001,-133.0034 1952.0001,-133.0033\"/>\n<text text-anchor=\"middle\" x=\"1984\" y=\"-144.8\" font-family=\"Times,serif\" font-size=\"14.00\" fill=\"#000000\">yes, missing</text>\n</g>\n<!-- 14 -->\n<g id=\"node27\" class=\"node\">\n<title>14</title>\n<path fill=\"#d3d3d3\" stroke=\"#000000\" d=\"M2269,-123C2269,-123 2132,-123 2132,-123 2126,-123 2120,-117 2120,-111 2120,-111 2120,-99 2120,-99 2120,-93 2126,-87 2132,-87 2132,-87 2269,-87 2269,-87 2275,-87 2281,-93 2281,-99 2281,-99 2281,-111 2281,-111 2281,-117 2275,-123 2269,-123\"/>\n<text text-anchor=\"middle\" x=\"2200.5\" y=\"-101.3\" font-family=\"Times,serif\" font-size=\"14.00\" fill=\"#000000\">Longitude&lt;&#45;121.453629</text>\n</g>\n<!-- 6&#45;&gt;14 -->\n<g id=\"edge26\" class=\"edge\">\n<title>6&#45;&gt;14</title>\n<path fill=\"none\" stroke=\"#ff0000\" d=\"M2000.7146,-173.9735C2040.8385,-160.1212 2096.3757,-140.9477 2138.7127,-126.3313\"/>\n<polygon fill=\"#ff0000\" stroke=\"#ff0000\" points=\"2140.042,-129.5752 2148.3523,-123.0034 2137.7576,-122.9584 2140.042,-129.5752\"/>\n<text text-anchor=\"middle\" x=\"2098.5\" y=\"-144.8\" font-family=\"Times,serif\" font-size=\"14.00\" fill=\"#000000\">no</text>\n</g>\n<!-- 23 -->\n<g id=\"node22\" class=\"node\">\n<title>23</title>\n<polygon fill=\"#d3d3d3\" stroke=\"#000000\" points=\"1355,-36 1224,-36 1224,0 1355,0 1355,-36\"/>\n<text text-anchor=\"middle\" x=\"1289.5\" y=\"-14.3\" font-family=\"Times,serif\" font-size=\"14.00\" fill=\"#000000\">leaf=0.0348484851</text>\n</g>\n<!-- 11&#45;&gt;23 -->\n<g id=\"edge21\" class=\"edge\">\n<title>11&#45;&gt;23</title>\n<path fill=\"none\" stroke=\"#0000ff\" d=\"M1399.3533,-86.8841C1388.2524,-81.4286 1376.263,-75.2283 1365.5,-69 1351.172,-60.7087 1335.9193,-50.7196 1322.8673,-41.7877\"/>\n<polygon fill=\"#0000ff\" stroke=\"#0000ff\" points=\"1324.8558,-38.9075 1314.6399,-36.0993 1320.8749,-44.6653 1324.8558,-38.9075\"/>\n<text text-anchor=\"middle\" x=\"1401\" y=\"-57.8\" font-family=\"Times,serif\" font-size=\"14.00\" fill=\"#000000\">yes, missing</text>\n</g>\n<!-- 24 -->\n<g id=\"node23\" class=\"node\">\n<title>24</title>\n<polygon fill=\"#d3d3d3\" stroke=\"#000000\" points=\"1511.5,-36 1373.5,-36 1373.5,0 1511.5,0 1511.5,-36\"/>\n<text text-anchor=\"middle\" x=\"1442.5\" y=\"-14.3\" font-family=\"Times,serif\" font-size=\"14.00\" fill=\"#000000\">leaf=0.00591133023</text>\n</g>\n<!-- 11&#45;&gt;24 -->\n<g id=\"edge22\" class=\"edge\">\n<title>11&#45;&gt;24</title>\n<path fill=\"none\" stroke=\"#ff0000\" d=\"M1439.3288,-86.9735C1439.8705,-75.1918 1440.5892,-59.5607 1441.2054,-46.1581\"/>\n<polygon fill=\"#ff0000\" stroke=\"#ff0000\" points=\"1444.7092,-46.1536 1441.6723,-36.0034 1437.7166,-45.832 1444.7092,-46.1536\"/>\n<text text-anchor=\"middle\" x=\"1449.5\" y=\"-57.8\" font-family=\"Times,serif\" font-size=\"14.00\" fill=\"#000000\">no</text>\n</g>\n<!-- 25 -->\n<g id=\"node24\" class=\"node\">\n<title>25</title>\n<polygon fill=\"#d3d3d3\" stroke=\"#000000\" points=\"1661,-36 1530,-36 1530,0 1661,0 1661,-36\"/>\n<text text-anchor=\"middle\" x=\"1595.5\" y=\"-14.3\" font-family=\"Times,serif\" font-size=\"14.00\" fill=\"#000000\">leaf=0.0607824437</text>\n</g>\n<!-- 12&#45;&gt;25 -->\n<g id=\"edge23\" class=\"edge\">\n<title>12&#45;&gt;25</title>\n<path fill=\"none\" stroke=\"#0000ff\" d=\"M1597.8784,-86.9735C1597.4721,-75.1918 1596.9331,-59.5607 1596.471,-46.1581\"/>\n<polygon fill=\"#0000ff\" stroke=\"#0000ff\" points=\"1599.9634,-45.8768 1596.1208,-36.0034 1592.9676,-46.1181 1599.9634,-45.8768\"/>\n<text text-anchor=\"middle\" x=\"1633\" y=\"-57.8\" font-family=\"Times,serif\" font-size=\"14.00\" fill=\"#000000\">yes, missing</text>\n</g>\n<!-- 26 -->\n<g id=\"node25\" class=\"node\">\n<title>26</title>\n<polygon fill=\"#d3d3d3\" stroke=\"#000000\" points=\"1810,-36 1679,-36 1679,0 1810,0 1810,-36\"/>\n<text text-anchor=\"middle\" x=\"1744.5\" y=\"-14.3\" font-family=\"Times,serif\" font-size=\"14.00\" fill=\"#000000\">leaf=0.0312101897</text>\n</g>\n<!-- 12&#45;&gt;26 -->\n<g id=\"edge24\" class=\"edge\">\n<title>12&#45;&gt;26</title>\n<path fill=\"none\" stroke=\"#ff0000\" d=\"M1638.6856,-86.9261C1649.8318,-81.5182 1661.8043,-75.3321 1672.5,-69 1686.2086,-60.8841 1700.6618,-50.9454 1712.9921,-42.0043\"/>\n<polygon fill=\"#ff0000\" stroke=\"#ff0000\" points=\"1715.1671,-44.7495 1721.1541,-36.0084 1711.0228,-39.1081 1715.1671,-44.7495\"/>\n<text text-anchor=\"middle\" x=\"1703.5\" y=\"-57.8\" font-family=\"Times,serif\" font-size=\"14.00\" fill=\"#000000\">no</text>\n</g>\n<!-- 27 -->\n<g id=\"node28\" class=\"node\">\n<title>27</title>\n<polygon fill=\"#d3d3d3\" stroke=\"#000000\" points=\"1964.5,-36 1828.5,-36 1828.5,0 1964.5,0 1964.5,-36\"/>\n<text text-anchor=\"middle\" x=\"1896.5\" y=\"-14.3\" font-family=\"Times,serif\" font-size=\"14.00\" fill=\"#000000\">leaf=&#45;0.0166666675</text>\n</g>\n<!-- 13&#45;&gt;27 -->\n<g id=\"edge27\" class=\"edge\">\n<title>13&#45;&gt;27</title>\n<path fill=\"none\" stroke=\"#0000ff\" d=\"M1937.7256,-86.9735C1930.4744,-74.8418 1920.7838,-58.6287 1912.6199,-44.9698\"/>\n<polygon fill=\"#0000ff\" stroke=\"#0000ff\" points=\"1915.3954,-42.7913 1907.2606,-36.0034 1909.3868,-46.3827 1915.3954,-42.7913\"/>\n<text text-anchor=\"middle\" x=\"1962\" y=\"-57.8\" font-family=\"Times,serif\" font-size=\"14.00\" fill=\"#000000\">yes, missing</text>\n</g>\n<!-- 28 -->\n<g id=\"node29\" class=\"node\">\n<title>28</title>\n<polygon fill=\"#d3d3d3\" stroke=\"#000000\" points=\"2114,-36 1983,-36 1983,0 2114,0 2114,-36\"/>\n<text text-anchor=\"middle\" x=\"2048.5\" y=\"-14.3\" font-family=\"Times,serif\" font-size=\"14.00\" fill=\"#000000\">leaf=0.0600000024</text>\n</g>\n<!-- 13&#45;&gt;28 -->\n<g id=\"edge28\" class=\"edge\">\n<title>13&#45;&gt;28</title>\n<path fill=\"none\" stroke=\"#ff0000\" d=\"M1977.7138,-86.9082C1985.7011,-81.5001 1994.1701,-75.3184 2001.5,-69 2010.2081,-61.4935 2018.9588,-52.4916 2026.5089,-44.1541\"/>\n<polygon fill=\"#ff0000\" stroke=\"#ff0000\" points=\"2029.3338,-46.2431 2033.3391,-36.4345 2024.0913,-41.6046 2029.3338,-46.2431\"/>\n<text text-anchor=\"middle\" x=\"2025.5\" y=\"-57.8\" font-family=\"Times,serif\" font-size=\"14.00\" fill=\"#000000\">no</text>\n</g>\n<!-- 29 -->\n<g id=\"node30\" class=\"node\">\n<title>29</title>\n<polygon fill=\"#d3d3d3\" stroke=\"#000000\" points=\"2268.5,-36 2132.5,-36 2132.5,0 2268.5,0 2268.5,-36\"/>\n<text text-anchor=\"middle\" x=\"2200.5\" y=\"-14.3\" font-family=\"Times,serif\" font-size=\"14.00\" fill=\"#000000\">leaf=&#45;0.0589285754</text>\n</g>\n<!-- 14&#45;&gt;29 -->\n<g id=\"edge29\" class=\"edge\">\n<title>14&#45;&gt;29</title>\n<path fill=\"none\" stroke=\"#0000ff\" d=\"M2200.5,-86.9735C2200.5,-75.1918 2200.5,-59.5607 2200.5,-46.1581\"/>\n<polygon fill=\"#0000ff\" stroke=\"#0000ff\" points=\"2204.0001,-46.0033 2200.5,-36.0034 2197.0001,-46.0034 2204.0001,-46.0033\"/>\n<text text-anchor=\"middle\" x=\"2236\" y=\"-57.8\" font-family=\"Times,serif\" font-size=\"14.00\" fill=\"#000000\">yes, missing</text>\n</g>\n<!-- 30 -->\n<g id=\"node31\" class=\"node\">\n<title>30</title>\n<polygon fill=\"#d3d3d3\" stroke=\"#000000\" points=\"2422.5,-36 2286.5,-36 2286.5,0 2422.5,0 2422.5,-36\"/>\n<text text-anchor=\"middle\" x=\"2354.5\" y=\"-14.3\" font-family=\"Times,serif\" font-size=\"14.00\" fill=\"#000000\">leaf=&#45;0.0152103556</text>\n</g>\n<!-- 14&#45;&gt;30 -->\n<g id=\"edge30\" class=\"edge\">\n<title>14&#45;&gt;30</title>\n<path fill=\"none\" stroke=\"#ff0000\" d=\"M2240.6775,-86.8592C2252.0819,-81.4032 2264.4098,-75.209 2275.5,-69 2290.3398,-60.6917 2306.1846,-50.6994 2319.7589,-41.7697\"/>\n<polygon fill=\"#ff0000\" stroke=\"#ff0000\" points=\"2321.9253,-44.5325 2328.3178,-36.0835 2318.0516,-38.702 2321.9253,-44.5325\"/>\n<text text-anchor=\"middle\" x=\"2307.5\" y=\"-57.8\" font-family=\"Times,serif\" font-size=\"14.00\" fill=\"#000000\">no</text>\n</g>\n</g>\n</svg>\n"
          },
          "metadata": {
            "tags": []
          },
          "execution_count": 36
        }
      ]
    },
    {
      "cell_type": "markdown",
      "metadata": {
        "id": "f95Qv0qrh51t"
      },
      "source": [
        "From the tree graph and the importance features, we can have some idea of what are the important features and how they were used to make the prediction, which would in turn provide important insights on how the company should collect and use the data in the future."
      ]
    }
  ]
}